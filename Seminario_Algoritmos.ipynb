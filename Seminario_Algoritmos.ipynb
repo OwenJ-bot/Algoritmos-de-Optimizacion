{
  "nbformat": 4,
  "nbformat_minor": 0,
  "metadata": {
    "colab": {
      "provenance": [],
      "include_colab_link": true
    },
    "kernelspec": {
      "name": "python3",
      "display_name": "Python 3"
    }
  },
  "cells": [
    {
      "cell_type": "markdown",
      "metadata": {
        "id": "view-in-github",
        "colab_type": "text"
      },
      "source": [
        "<a href=\"https://colab.research.google.com/github/OwenJ-bot/Algoritmos-de-Optimizacion/blob/main/Seminario_Algoritmos.ipynb\" target=\"_parent\"><img src=\"https://colab.research.google.com/assets/colab-badge.svg\" alt=\"Open In Colab\"/></a>"
      ]
    },
    {
      "cell_type": "markdown",
      "metadata": {
        "id": "hVbXYX-RfPWh"
      },
      "source": [
        "# Algoritmos de optimización - Seminario\n",
        "\n",
        "**Nombre y Apellidos:** Owen Dadney Jiménez Chala\n",
        "\n",
        "**Url:** [https://github.com/OwenJ-bot/Algoritmos-de-Optimizacion/blob/main/Seminario_Algoritmos.ipynb](https://github.com/OwenJ-bot/Algoritmos-de-Optimizacion/blob/main/Seminario_Algoritmos.ipynb)  \n",
        "\n",
        "**Problema:**  \n",
        "\n",
        "> 1. Sesiones de doblaje <br>\n",
        "\n",
        "Descripción del problema:\n",
        "\n",
        "Se precisa coordinar el doblaje de una película. Los actores del doblaje deben coincidir en las tomas en las que sus personajes aparecen juntos en las diferentes tomas. Los actores de doblaje cobran todos la misma cantidad por cada día que deben desplazarse hasta el estudio de grabación independientemente del número de tomas que se graben. No es posible grabar más de 6 tomas por día. El objetivo es planificar las sesiones por día de manera que el gasto por los\n",
        "servicios de los actores de doblaje sea el menor posible.\n",
        "\n"
      ]
    },
    {
      "cell_type": "markdown",
      "metadata": {
        "id": "3_-exlrTgLd-"
      },
      "source": [
        "**(*)¿Cuantas posibilidades hay sin tener en cuenta las restricciones?**<br>\n",
        "\n",
        "\n",
        "\n",
        "**¿Cuantas posibilidades hay teniendo en cuenta todas las restricciones.**\n",
        "\n",
        "\n"
      ]
    },
    {
      "cell_type": "markdown",
      "metadata": {
        "id": "WfCUqJyKhPcw"
      },
      "source": [
        "Para calcular el número total de combinaciones posibles sin restricciones, consideramos que cada una de las *T*  tomas puede asignarse a uno de los *D* días. Dado que cada toma puede ser programada en cualquier día, el número total de combinaciones sera:\n",
        "\n",
        "$$\\mathbf{D^T}$$\n",
        "\n",
        "Es decir, que en nuestro ejercicio tenemos *T*=30 tomas y supongamos que queremos que esten en *D* = 6 días disponibles. Cada toma puede ser asignada libremente a cualquiera de los seis días. Entonces, la cantidad de maneras en las que podemos asignar las tomas seria:\n",
        "\n",
        "$$6^{30}$$\n",
        "\n",
        "Esto significa que existen 221.073.919.720.733.357.899.776 formas diferentes de distribuir las 30 tomas en los 6 días, esto sin tener en cuenta las restricciones como la cantidad de actores disponibles o el límite de tomas por día.\n",
        "\n",
        "Si consideraramos dichas restricciones las posibilidades se reduciran, pues se restringe a que cada toma debe asignarse a un solo dia, no compremetiendo posibilidades de que en cualquier dia se puede terminar la toma. También que no se pueden programar más de 6 tomas por día. Teniendo esto en mente y que las 30 tomas deben distribuirse exactamente en 5 días, con 6 tomas por día. El número de formas de hacer esta distribución es:\n",
        "\n",
        "$$30! /(6!)^5 ≈ 1.37\\times 10 ^{18}$$\n",
        "\n",
        "Esta cantidad es muchísimo menor que las $6^{30}$ opciones sin restricciones, ademas, cada toma tiene un conjunto de actores asociados, un actor solo trabaja en un día si al menos una de sus tomas está asignada a ese día. El objetivo es minimizar los días trabajados por los actores."
      ]
    },
    {
      "cell_type": "markdown",
      "metadata": {
        "id": "dzynfVJahHoY"
      },
      "source": [
        "**Modelo para el espacio de soluciones**<br>\n",
        "**(*) ¿Cual es la estructura de datos que mejor se adapta al problema? Argumentalo.(Es posible que hayas elegido una al principio y veas la necesidad de cambiar, arguentalo)**\n"
      ]
    },
    {
      "cell_type": "markdown",
      "metadata": {
        "id": "xFIJrOwKi2Ti"
      },
      "source": [
        "Para representar y resolver este problema de planificación de tomas de doblaje, la estructura de datos más adecuada es matrices y diccionarios. Esto se debe a la naturaleza combinatoria del problema, donde las relaciones entre tomas y actores deben ser organizadas de manera eficiente.\n",
        "\n",
        "Por ejemplo, definamos A cono una matriz binaria para representar la relación Tomas-Actores, tenemos que $A_{i,j} = 1$, si el actor $j$ paricipa en la toma $i$ y $0$ en otro caso,\n",
        "\n",
        "$$ A = \\begin{bmatrix}\n",
        "1 & 0 & 1 & 0 \\\\\n",
        "0 & 1 & 0 & 1 \\\\\n",
        "1 & 1 & 0 & 0 \\\\\n",
        "\\end{bmatrix}$$  \n",
        "\n",
        "En este caso, la primera toma tiene los actores 1 y 3, la segunda toma tiene los actores 2 y 4, y la tercera contiene a los actores 1 y 2, asi sucesivamente llegando a $i,j$ Tomas,Actores.\n",
        "\n",
        "Podriamos considerar un diccionario para modelar variables de optimización, pues estos nos permiten acceder a las variables de manera rápida y eficiente, asi como a manejar grandes cantidades de combinaciones posibles, entre otros beneficios de creación de diccionarios.\n",
        "\n",
        "Supongamos que creamos un diccionario llamado $X$ con entrada $(t,d): valor$, donde $t$ es el número de la toma, $d$ es el día en el que podria asignarse la toma y $valor$ seria $1$ si la toma está asignada a ese día, $0$ si no lo está.\n",
        "\n",
        "Esto significa que por cada toma $t$ y día $d$, creamos una variable binaria que indica si esa toma se realiza en ese día. Pero aqui no quedaria el diccionario a cabalidad, ya que falta la parte de los actores, asi que creariamos otro diccionario $Y$ para indicar si un actor trabaja en un día determinado.\n",
        "\n",
        "Cada entrada en $Y$ tendria la forma $(a, d): valor$,  donde $a$ es el número del actor, $d$ es el dia y $valor$, similar al anterior, $1$ si el actor trabaja ese día, $0$ si no.\n",
        "\n",
        "Así diccionario ayudaria a calcular cuántos días trabajan los actores y a minimizar ese número en nuestra solución."
      ]
    },
    {
      "cell_type": "code",
      "source": [
        "X = {(t, d): LpVariable(f\"x_{t}_{d}\", cat=LpBinary) for t in range(T) for d in range(D)}\n",
        "Y = {(a, d): LpVariable(f\"y_{a}_{d}\", cat=LpBinary) for a in range(A_actors) for d in range(D)}"
      ],
      "metadata": {
        "id": "RhQy8pal5HSH"
      },
      "execution_count": null,
      "outputs": []
    },
    {
      "cell_type": "markdown",
      "metadata": {
        "id": "7Z9U2W7bi-XS"
      },
      "source": [
        "**Según el modelo para el espacio de soluciones**<br>\n",
        "\n",
        "\n",
        "**(*)¿Cual es la función objetivo?**\n",
        "\n",
        "**(*)¿Es un problema de maximización o minimización?**"
      ]
    },
    {
      "cell_type": "markdown",
      "metadata": {
        "id": "hBalWLM7j1_d"
      },
      "source": [
        "La función objetivo del modelo es minimizar el número total de días trabajados por los actores. Esto se expresa matemáticamente como:\n",
        "\n",
        "$$min\\sum_{a=1}^{A}\\sum_{d=1}^{D}y_{a,d}$$\n",
        "\n",
        ",donde $y_{a,d}$ es una variable binaria que indica si el actor $a$ trabaja en el día $d$. $A$ es el número total de actores y $D$ es el número máximo de días posibles para realizar las tomas.\n",
        "\n",
        "Supongamos que en nuestro ejemplo, es decir, 10 actores y 30 tomas se deben distribuir en un máximo de 5 días. Si una planificación distribuye las tomas de forma que cada actor trabaja 3 días en total, la función objetivo devolvería:\n",
        "\n",
        "$$min\\sum_{a=1}^{10}\\sum_{d=1}^{5}y_{a,d} = 3 \\times 10 = 30$$\n",
        "\n",
        "Pero si encontramos una mejor planificación donde cada actor solo trabaja 2 días en total, entonces la función objetivo se reducira a:\n",
        "\n",
        "$$min\\sum_{a=1}^{10}\\sum_{d=1}^{5}y_{a,d} = 2 \\times 10 = 20$$\n",
        "\n",
        "Como denotamos, es una función objetivo que busca minimizar este valor, la solución óptima será aquella que distribuya las tomas de manera eficiente para que los actores trabajen el menor número de días posible."
      ]
    },
    {
      "cell_type": "markdown",
      "metadata": {
        "id": "rlnTYgY1j6I2"
      },
      "source": [
        "**Diseña un algoritmo para resolver el problema por fuerza bruta**"
      ]
    },
    {
      "cell_type": "markdown",
      "metadata": {
        "id": "70rDgxYXkC8r"
      },
      "source": [
        "A continuación se implementa un algoritmo de fuerza bruta para encontrar la mejor manera de agrupar las tomas en días, minimizando la cantidad de días en los que trabajan los actores. Se granatiza esto con el uso de $itertools.permutations$ que genera todas las combinaciones posibles de las tomas para evaluar cuál distribución minimiza el número de días trabajados."
      ]
    },
    {
      "cell_type": "code",
      "source": [
        "from itertools import permutations\n",
        "import numpy as np\n",
        "\n",
        "A = np.array([\n",
        "    [1,1,1,1,1,0,0,0,0,0],\n",
        "    [0,0,1,1,1,0,0,0,0,0],\n",
        "    [0,1,0,0,1,0,1,0,0,0],\n",
        "    [1,1,0,0,0,0,1,1,0,0],\n",
        "    [0,1,0,1,0,0,0,1,0,0],\n",
        "    [1,1,0,1,1,0,0,0,0,0],\n",
        "    [1,1,0,1,1,0,0,0,0,0],\n",
        "    [1,1,0,0,0,1,0,0,0,0],\n",
        "    [1,1,0,1,0,0,0,0,0,0],\n",
        "    [1,1,0,0,0,1,0,0,1,0],\n",
        "    [1,1,1,0,1,0,0,1,0,0],\n",
        "    [1,1,1,1,0,1,0,0,0,0],\n",
        "    [1,0,0,1,1,0,0,0,0,0],\n",
        "    [1,0,1,0,0,1,0,0,0,0],\n",
        "    [1,1,0,0,0,0,1,0,0,0],\n",
        "    [0,0,0,1,0,0,0,0,0,1],\n",
        "    [1,0,1,0,0,0,0,0,0,0],\n",
        "    [0,0,1,0,0,1,0,0,0,0],\n",
        "    [1,0,1,0,0,0,0,0,0,0],\n",
        "    [1,0,1,1,1,0,0,0,0,0],\n",
        "    [0,0,0,0,0,1,0,1,0,0],\n",
        "    [1,1,1,1,0,0,0,0,0,0],\n",
        "    [1,0,1,0,0,0,0,0,0,0],\n",
        "    [0,0,1,0,0,1,0,0,0,0],\n",
        "    [1,1,0,1,0,0,0,0,0,1],\n",
        "    [1,0,1,0,1,0,0,0,1,0],\n",
        "    [0,0,0,1,1,0,0,0,0,0],\n",
        "    [1,0,0,1,0,0,0,0,0,0],\n",
        "    [1,0,0,0,1,1,0,0,0,0],\n",
        "    [1,0,0,1,0,0,0,0,0,0],\n",
        "])\n",
        "\n",
        "T, A_actors = A.shape  # Número de tomas y actores\n",
        "D = (T + 5) // 6  # Número máximo de días (se divide por 6 ya que no pueden grabarse más de 6 tomas por día)\n",
        "\n",
        "# Algoritmo de fuerza bruta para minimizar los días trabajados por actores\n",
        "def brute_force_schedule():\n",
        "    min_days = float('inf')\n",
        "    best_schedule = None\n",
        "\n",
        "    for perm in permutations(range(T)):\n",
        "        temp_schedule = {d: [] for d in range(D)}\n",
        "        temp_actors_per_day = {d: set() for d in range(D)}\n",
        "\n",
        "        for i, t in enumerate(perm):\n",
        "            d = i // 6\n",
        "            temp_schedule[d].append(t + 1)\n",
        "            for a in range(A_actors):\n",
        "                if A[t, a] == 1:\n",
        "                    temp_actors_per_day[d].add(a + 1)\n",
        "\n",
        "        total_days = sum(1 for d in temp_actors_per_day if temp_actors_per_day[d])\n",
        "        if total_days < min_days:\n",
        "            min_days = total_days\n",
        "            best_schedule = temp_schedule\n",
        "\n",
        "    return best_schedule\n",
        "\n",
        "# Ejecutar el algoritmo de fuerza bruta\n",
        "brute_force_result = brute_force_schedule()\n",
        "if brute_force_result:\n",
        "    for d in sorted(brute_force_result.keys()):\n",
        "        if brute_force_result[d]:\n",
        "            print(f\"Día {d+1}\")\n",
        "            print(f\"Tomas: {brute_force_result[d]}\")\n",
        "            print()"
      ],
      "metadata": {
        "id": "NucpQAai2xUq"
      },
      "execution_count": null,
      "outputs": []
    },
    {
      "cell_type": "markdown",
      "metadata": {
        "id": "tgrnsC2nkFa8"
      },
      "source": [
        "**Calcula la complejidad del algoritmo por fuerza bruta**"
      ]
    },
    {
      "cell_type": "markdown",
      "metadata": {
        "id": "9eUd3xwckP68"
      },
      "source": [
        "La complejidad computacional del algoritmo por fuerza bruta estara dada por:\n",
        "\n",
        "Generación de asignaciones, es decir cada una de las $T$ tomas puede asignarse a cualquiera de los $D$ días, es decir hay en total $D^T$ asignaciones posibles. En el peor caso $D=T$ (un día por cada toma, máximo número de días), entonces el número de asignaciones sería:\n",
        "$$T^T$$\n",
        "\n",
        "Respecto a las restricciones se debe tener en cuenta que para cada asignación, hay que comprobar, que no haya más de $M$ tomas en ningún día → se recorre las tomas → $O(T)$.\n",
        "\n",
        "Los actores deben estar presentes en los días que se graban las tomas en las que participan → para cada toma miramos todos los actores → $O(T\\cdot A)$,  donde A es el número de actores. Este será el coste de verificar una asignación.\n",
        "\n",
        "Por lo tanto, hay $T^T$ asignaciones y cada una tarda $O(T\\cdot A)$ en comprobarse. Así la complejidad total es:\n",
        "\n",
        "$$O(T^T \\cdot T\\cdot A) = O(T^{T+1} \\cdot A)$$\n"
      ]
    },
    {
      "cell_type": "markdown",
      "metadata": {
        "id": "txbrmLmskReM"
      },
      "source": [
        "**(*)Diseña un algoritmo que mejore la complejidad del algortimo por fuerza bruta. Argumenta porque crees que mejora el algoritmo por fuerza bruta**"
      ]
    },
    {
      "cell_type": "markdown",
      "source": [
        "***Algoritmo Voraz***\n",
        "\n",
        "Para mejorar la complejidad del algoritmo por fuerza bruta haremos uso de un algoritmo voraz, pues este busca el mayor rendimiento de manera inmediata, sin pensar en las consecuencias; es decir estamos ante una solucion heuristica, buenas soluciones pero no se determinara si es la óptima. Sin embargo utilizaremos PLE para comparar resultados del algoritmo propuesto."
      ],
      "metadata": {
        "id": "vQsxD3dI6Uvb"
      }
    },
    {
      "cell_type": "code",
      "source": [
        "import numpy as np\n",
        "\n",
        "A = np.array([\n",
        "    [1,1,1,1,1,0,0,0,0,0],\n",
        "    [0,0,1,1,1,0,0,0,0,0],\n",
        "    [0,1,0,0,1,0,1,0,0,0],\n",
        "    [1,1,0,0,0,0,1,1,0,0],\n",
        "    [0,1,0,1,0,0,0,1,0,0],\n",
        "    [1,1,0,1,1,0,0,0,0,0],\n",
        "    [1,1,0,1,1,0,0,0,0,0],\n",
        "    [1,1,0,0,0,1,0,0,0,0],\n",
        "    [1,1,0,1,0,0,0,0,0,0],\n",
        "    [1,1,0,0,0,1,0,0,1,0],\n",
        "    [1,1,1,0,1,0,0,1,0,0],\n",
        "    [1,1,1,1,0,1,0,0,0,0],\n",
        "    [1,0,0,1,1,0,0,0,0,0],\n",
        "    [1,0,1,0,0,1,0,0,0,0],\n",
        "    [1,1,0,0,0,0,1,0,0,0],\n",
        "    [0,0,0,1,0,0,0,0,0,1],\n",
        "    [1,0,1,0,0,0,0,0,0,0],\n",
        "    [0,0,1,0,0,1,0,0,0,0],\n",
        "    [1,0,1,0,0,0,0,0,0,0],\n",
        "    [1,0,1,1,1,0,0,0,0,0],\n",
        "    [0,0,0,0,0,1,0,1,0,0],\n",
        "    [1,1,1,1,0,0,0,0,0,0],\n",
        "    [1,0,1,0,0,0,0,0,0,0],\n",
        "    [0,0,1,0,0,1,0,0,0,0],\n",
        "    [1,1,0,1,0,0,0,0,0,1],\n",
        "    [1,0,1,0,1,0,0,0,1,0],\n",
        "    [0,0,0,1,1,0,0,0,0,0],\n",
        "    [1,0,0,1,0,0,0,0,0,0],\n",
        "    [1,0,0,0,1,1,0,0,0,0],\n",
        "    [1,0,0,1,0,0,0,0,0,0],\n",
        "])\n",
        "\n",
        "# Definimos algunas variables\n",
        "T, A_actors = A.shape  # Número de tomas y número de actores\n",
        "M = 6  # Número máximo de tomas que se pueden grabar por día\n",
        "D = (T + M - 1) // M  # Número mínimo de días necesarios\n",
        "\n",
        "# Definimos una función\n",
        "def algoritmo_voraz():\n",
        "    # Inicializa un diccionario donde cada día tiene una lista vacía de tomas\n",
        "    planificacion = {dia: [] for dia in range(D)}\n",
        "\n",
        "    # Inicializa una matriz que indica si un actor trabaja en un día (0 = no, 1 = sí)\n",
        "    actores_trabajando = [[0] * D for _ in range(A_actors)]\n",
        "\n",
        "    # Lista que cuenta cuántas tomas hay por día\n",
        "    tomas_por_dia = [0] * D\n",
        "\n",
        "    # Lista que indica si una toma ya ha sido asignada\n",
        "    tomas_asignadas = [False] * T\n",
        "\n",
        "    # Para cada toma\n",
        "    for toma in range(T):\n",
        "        mejor_dia = None  # Mejor día encontrado para asignar la toma\n",
        "        min_nuevos_actores = float('inf')  # Inicializamos con infinito\n",
        "\n",
        "        # Evaluamos todos los días posibles\n",
        "        for dia in range(D):\n",
        "            # Si el día todavía puede recibir tomas\n",
        "            if tomas_por_dia[dia] < M:\n",
        "                nuevos_actores = 0  # Contador de nuevos actores que se requerirían ese día\n",
        "\n",
        "                # Evaluamos cada actor\n",
        "                for actor in range(A_actors):\n",
        "                    # Si el actor participa en la toma y no ha trabajado ese día\n",
        "                    if A[toma, actor] == 1 and actores_trabajando[actor][dia] == 0:\n",
        "                        nuevos_actores += 1  # Contamos como nuevo actor\n",
        "\n",
        "                # Si este día implica menos actores nuevos, lo preferimos\n",
        "                if nuevos_actores < min_nuevos_actores:\n",
        "                    min_nuevos_actores = nuevos_actores\n",
        "                    mejor_dia = dia  # Guardamos este como el mejor día\n",
        "\n",
        "        # Una vez elegido el mejor día\n",
        "        if mejor_dia is not None:\n",
        "            planificacion[mejor_dia].append(toma)  # Asignamos la toma al mejor día\n",
        "            tomas_por_dia[mejor_dia] += 1  # Aumentamos el conteo de tomas para ese día\n",
        "            tomas_asignadas[toma] = True  # Marcamos la toma como asignada\n",
        "\n",
        "            # Marcamos que cada actor involucrado trabaja ese día\n",
        "            for actor in range(A_actors):\n",
        "                if A[toma, actor] == 1:\n",
        "                    actores_trabajando[actor][mejor_dia] = 1\n",
        "\n",
        "    # Retornamos la planificación final y la matriz de actores trabajando\n",
        "    return planificacion, actores_trabajando\n",
        "\n",
        "# Ejecutar la función\n",
        "planificacion, actores_trabajando = algoritmo_voraz()\n",
        "\n",
        "# Mostrar los resultados\n",
        "if planificacion:\n",
        "    for dia in sorted(planificacion.keys()):  # Para cada día en orden\n",
        "        if planificacion[dia]:  # Si hay tomas asignadas ese día\n",
        "            print(f\"Día {dia+1}\")  # Mostramos el número de día\n",
        "            print(f\"Tomas: {[toma+1 for toma in planificacion[dia]]}\")  # Mostramos las tomas (sumamos 1 para que empiecen en 1, no en 0)\n",
        "            actores_en_dia = [actor+1 for actor in range(A_actors) if actores_trabajando[actor][dia] == 1]  # Actores que trabajan ese día\n",
        "            print(f\"Actores implicados: {actores_en_dia}\")  # Mostramos los actores\n",
        "            print()  # Línea en blanco para separar los días"
      ],
      "metadata": {
        "colab": {
          "base_uri": "https://localhost:8080/"
        },
        "id": "iXnj3s3I6UV6",
        "outputId": "37ed30f6-e328-477f-8b27-0b592a083a19"
      },
      "execution_count": 1,
      "outputs": [
        {
          "output_type": "stream",
          "name": "stdout",
          "text": [
            "Día 1\n",
            "Tomas: [1, 2, 3, 4, 5, 6]\n",
            "Actores implicados: [1, 2, 3, 4, 5, 7, 8]\n",
            "\n",
            "Día 2\n",
            "Tomas: [7, 8, 9, 10, 11, 12]\n",
            "Actores implicados: [1, 2, 3, 4, 5, 6, 8, 9]\n",
            "\n",
            "Día 3\n",
            "Tomas: [13, 14, 15, 16, 17, 18]\n",
            "Actores implicados: [1, 2, 3, 4, 5, 6, 7, 10]\n",
            "\n",
            "Día 4\n",
            "Tomas: [19, 20, 21, 22, 23, 24]\n",
            "Actores implicados: [1, 2, 3, 4, 5, 6, 8]\n",
            "\n",
            "Día 5\n",
            "Tomas: [25, 26, 27, 28, 29, 30]\n",
            "Actores implicados: [1, 2, 3, 4, 5, 6, 9, 10]\n",
            "\n"
          ]
        }
      ]
    },
    {
      "cell_type": "markdown",
      "source": [
        "Este algoritmo voraz mejora en la asignacion con respecto al de fuerza bruta pues:\n",
        "- Solo asigna cada toma una vez (sin explorar combinaciones completas).\n",
        "- Busca localmente el mejor día para cada toma (el que implique activar menos actores nuevos).\n",
        "- Nunca retrocede: toma decisiones rápidas.\n",
        "- Respeta las restricciones, como máximo 6 tomas por día.\n",
        "- No necesitas explorar todas las combinaciones posibles, para llegar a una solución.\n",
        "\n",
        "Vamos a ver un algoritmo PLE para comparar su salida"
      ],
      "metadata": {
        "id": "JxtgefGmAdmK"
      }
    },
    {
      "cell_type": "markdown",
      "metadata": {
        "id": "hLrVwt5QkZPD"
      },
      "source": [
        "***Algoritmo PLE***\n",
        "\n",
        "Usaremos ahora un algoritmo de programación lineal entera (PLE), solo con fin  comparativo, pues como se define en la guia, un problema de programación lineal es aquel que trata de maximizar (o minimizar en nuestro caso) una función objetivo lineal sujeta a unas restricciones de igualdad o desigualdad. Tal como se plante en el problema que queremos solucionar, pues aunque fuerza bruta puede llegar al resultado, la complejidad computacional no lo dejaria ejecutar n veces para casos diferentes. También como todas las variables del problema son enteras, el problema se considera puro.\n",
        "\n",
        "Haremos uso del paquete pulp, este permite formular y resolver problemas de optimización lineal y programación lineal entera."
      ]
    },
    {
      "cell_type": "code",
      "metadata": {
        "id": "m1eyM21Vkabg",
        "colab": {
          "base_uri": "https://localhost:8080/"
        },
        "outputId": "a5105ee7-b652-493c-e872-bb67991dac36"
      },
      "source": [
        "!pip install pulp\n",
        "\n",
        "from pulp import LpProblem, LpVariable, lpSum, LpMinimize, LpBinary\n",
        "import numpy as np\n",
        "\n",
        "# Datos de la matriz (actores en tomas)\n",
        "# Cada fila representa una toma y cada columna representa un actor.\n",
        "# Un '1' indica que el actor participa en la toma correspondiente.\n",
        "A = np.array([\n",
        "    [1,1,1,1,1,0,0,0,0,0],\n",
        "    [0,0,1,1,1,0,0,0,0,0],\n",
        "    [0,1,0,0,1,0,1,0,0,0],\n",
        "    [1,1,0,0,0,0,1,1,0,0],\n",
        "    [0,1,0,1,0,0,0,1,0,0],\n",
        "    [1,1,0,1,1,0,0,0,0,0],\n",
        "    [1,1,0,1,1,0,0,0,0,0],\n",
        "    [1,1,0,0,0,1,0,0,0,0],\n",
        "    [1,1,0,1,0,0,0,0,0,0],\n",
        "    [1,1,0,0,0,1,0,0,1,0],\n",
        "    [1,1,1,0,1,0,0,1,0,0],\n",
        "    [1,1,1,1,0,1,0,0,0,0],\n",
        "    [1,0,0,1,1,0,0,0,0,0],\n",
        "    [1,0,1,0,0,1,0,0,0,0],\n",
        "    [1,1,0,0,0,0,1,0,0,0],\n",
        "    [0,0,0,1,0,0,0,0,0,1],\n",
        "    [1,0,1,0,0,0,0,0,0,0],\n",
        "    [0,0,1,0,0,1,0,0,0,0],\n",
        "    [1,0,1,0,0,0,0,0,0,0],\n",
        "    [1,0,1,1,1,0,0,0,0,0],\n",
        "    [0,0,0,0,0,1,0,1,0,0],\n",
        "    [1,1,1,1,0,0,0,0,0,0],\n",
        "    [1,0,1,0,0,0,0,0,0,0],\n",
        "    [0,0,1,0,0,1,0,0,0,0],\n",
        "    [1,1,0,1,0,0,0,0,0,1],\n",
        "    [1,0,1,0,1,0,0,0,1,0],\n",
        "    [0,0,0,1,1,0,0,0,0,0],\n",
        "    [1,0,0,1,0,0,0,0,0,0],\n",
        "    [1,0,0,0,1,1,0,0,0,0],\n",
        "    [1,0,0,1,0,0,0,0,0,0],\n",
        "])\n",
        "\n",
        "T, A_actors = A.shape  # Número de tomas y actores\n",
        "D = (T + 5) // 6  # Número máximo de días (se divide por 6 ya que no pueden grabarse más de 6 tomas por día)\n",
        "\n",
        "# Definir el problema de optimización (Minimización de costos)\n",
        "prob = LpProblem(\"Minimizar_Costos_Doblaje\", LpMinimize)\n",
        "\n",
        "# Variables de decisión\n",
        "# x[t, d] = 1 si la toma 't' se graba en el día 'd'\n",
        "x = LpVariable.dicts(\"x\", [(t, d) for t in range(T) for d in range(D)], cat=LpBinary)\n",
        "# y[a, d] = 1 si el actor 'a' trabaja en el día 'd'\n",
        "y = LpVariable.dicts(\"y\", [(a, d) for a in range(A_actors) for d in range(D)], cat=LpBinary)\n",
        "\n",
        "# Restricción 1: Cada toma se asigna a un único día\n",
        "for t in range(T):\n",
        "    prob += lpSum(x[(t, d)] for d in range(D)) == 1\n",
        "\n",
        "# Restricción 2: No más de 6 tomas por día\n",
        "for d in range(D):\n",
        "    prob += lpSum(x[(t, d)] for t in range(T)) <= 6\n",
        "\n",
        "# Restricción 3: Un actor trabaja un día si participa en al menos una toma\n",
        "for a in range(A_actors):\n",
        "    for d in range(D):\n",
        "        prob += lpSum(A[t, a] * x[(t, d)] for t in range(T)) <= y[(a, d)] * T\n",
        "\n",
        "# Función objetivo: Minimizar el número total de días trabajados por los actores\n",
        "prob += lpSum(y[(a, d)] for a in range(A_actors) for d in range(D))\n",
        "\n",
        "# Resolver el problema\n",
        "prob.solve()\n",
        "\n",
        "# Procesar la solución para obtener el cronograma\n",
        "schedule = {d: [] for d in range(D)}  # Tomas asignadas a cada día\n",
        "actors_per_day = {d: set() for d in range(D)}  # Actores que trabajan cada día\n",
        "\n",
        "for t in range(T):\n",
        "    for d in range(D):\n",
        "        if x[(t, d)].varValue == 1:  # Si la toma 't' se asignó al día 'd'\n",
        "            schedule[d].append(t + 1)  # Se almacena la toma (sumando 1 para indexado humano)\n",
        "            for a in range(A_actors):\n",
        "                if A[t, a] == 1:  # Si el actor participa en la toma\n",
        "                    actors_per_day[d].add(a + 1)  # Se añade a la lista de actores (sumando 1 para indexado humano)\n",
        "\n",
        "# Imprimir la planificación óptima\n",
        "for d in sorted(schedule.keys()):\n",
        "    if schedule[d]:  # Si hay tomas programadas en este día\n",
        "        print(f\"Día {d+1}\")\n",
        "        print(f\"Tomas: {schedule[d]}\")\n",
        "        print(f\"Actores implicados: {sorted(actors_per_day[d])}\\n\")"
      ],
      "execution_count": 5,
      "outputs": [
        {
          "output_type": "stream",
          "name": "stdout",
          "text": [
            "Collecting pulp\n",
            "  Downloading pulp-3.1.1-py3-none-any.whl.metadata (1.3 kB)\n",
            "Downloading pulp-3.1.1-py3-none-any.whl (16.4 MB)\n",
            "\u001b[2K   \u001b[90m━━━━━━━━━━━━━━━━━━━━━━━━━━━━━━━━━━━━━━━━\u001b[0m \u001b[32m16.4/16.4 MB\u001b[0m \u001b[31m82.5 MB/s\u001b[0m eta \u001b[36m0:00:00\u001b[0m\n",
            "\u001b[?25hInstalling collected packages: pulp\n",
            "Successfully installed pulp-3.1.1\n",
            "Día 1\n",
            "Tomas: [6, 7, 9, 13, 16, 25]\n",
            "Actores implicados: [1, 2, 4, 5, 10]\n",
            "\n",
            "Día 2\n",
            "Tomas: [3, 4, 8, 10, 15, 29]\n",
            "Actores implicados: [1, 2, 5, 6, 7, 8, 9]\n",
            "\n",
            "Día 3\n",
            "Tomas: [1, 5, 11, 12, 21, 22]\n",
            "Actores implicados: [1, 2, 3, 4, 5, 6, 8]\n",
            "\n",
            "Día 4\n",
            "Tomas: [14, 17, 18, 19, 23, 24]\n",
            "Actores implicados: [1, 3, 6]\n",
            "\n",
            "Día 5\n",
            "Tomas: [2, 20, 26, 27, 28, 30]\n",
            "Actores implicados: [1, 3, 4, 5, 9]\n",
            "\n"
          ]
        }
      ]
    },
    {
      "cell_type": "markdown",
      "source": [
        "Este algoritmo PLE encuentra una solución óptima en tiempos cortos, sin embargo no es posible controlar el algoritmo interno, algo que si se puede en el voraz."
      ],
      "metadata": {
        "id": "CQaoM0QwBsKf"
      }
    },
    {
      "cell_type": "markdown",
      "metadata": {
        "id": "eGDB4K6uk1iN"
      },
      "source": [
        "**(*)Calcula la complejidad del algoritmo**"
      ]
    },
    {
      "cell_type": "markdown",
      "metadata": {
        "id": "NhpTh_BPk1ms"
      },
      "source": [
        "El algoritmo voraz asigna cada toma a un día de grabación buscando minimizar la aparición de nuevos actores en cada jornada. Por lo tanto, la complejidad computacional estará dada de la siguiente manera:\n",
        "\n",
        "Para cada $T$ toma, se evalúan:\n",
        "- Hasta $D$ días disponibles (donde $D \\cong T/6$, dado que cada día puede tener como máximo 6 tomas).\n",
        "- Y para cada día, se revisan los $A$ actores para contar cuántos actores nuevos se activarían si se asigna la toma a ese día.\n",
        "\n",
        "Por tanto, la complejidad de cada toma es:\n",
        "$$O(D \\times A)$$\n",
        "\n",
        "y para todas las tomas:\n",
        "$$O(T \\times D \\times A)$$\n",
        "\n",
        "Especificamente en nuestro ejercicio, $D$ es del orden de $T/6$, así que realmente $D=O(T)$ de forma proporcional, aunque mucho más pequeño por la cantidad de datos. El número de actores $A=10$ es considerablemente pequeño y constante respecto a $T$. También, si $A$ y $M$ se consideran constantes, entonces la complejidad práctica se aproxima a:\n",
        "\n",
        "$$O(T^2)$$\n",
        "\n",
        "Dependera de los Actores, de los dias y de las tomas. Entre mas grandes sean mas complejo será el resultado. De cualquier modo, es una mejora muy significativa respecto al enfoque de fuerza bruta, cuya complejidad es exponencial en $T$."
      ]
    },
    {
      "cell_type": "markdown",
      "metadata": {
        "id": "3M6QjTsSkmYe"
      },
      "source": [
        "**Según el problema (y tenga sentido), diseña un juego de datos de entrada aleatorios**"
      ]
    },
    {
      "cell_type": "markdown",
      "metadata": {
        "id": "Jc3_OlyNkvjZ"
      },
      "source": [
        "Cambiaremos un poco los datos, esta vez se haran 20 tomas, solo con 5 actores, en un maximo de 5 dias. Se añade la semilla para reproducibilidad"
      ]
    },
    {
      "cell_type": "code",
      "metadata": {
        "id": "sJ-N2etjkyWc",
        "colab": {
          "base_uri": "https://localhost:8080/"
        },
        "outputId": "4b1feed8-e923-47f9-febc-701ae9f2c030"
      },
      "source": [
        "import numpy as np\n",
        "\n",
        "# Parámetros para generar datos aleatorios\n",
        "num_tomas = 20  # Número de tomas\n",
        "num_actores = 5  # Número de actores\n",
        "\n",
        "# Generar una matriz aleatoria de participación de actores en tomas\n",
        "# Cada actor tiene una probabilidad del 50% de estar en una toma\n",
        "np.random.seed(42)  # Para reproducibilidad\n",
        "A = (np.random.rand(num_tomas, num_actores) < 0.5).astype(int)\n",
        "\n",
        "T, A_actors = A.shape  # Número de tomas y actores\n",
        "D = (T + 5) // 5  # Número máximo de días (se divide por 5 ya que no pueden grabarse más de 5 tomas por día)\n",
        "\n",
        "A #20 tomas(filas) , 5 actores(columnas)"
      ],
      "execution_count": 6,
      "outputs": [
        {
          "output_type": "execute_result",
          "data": {
            "text/plain": [
              "array([[1, 0, 0, 0, 1],\n",
              "       [1, 1, 0, 0, 0],\n",
              "       [1, 0, 0, 1, 1],\n",
              "       [1, 1, 0, 1, 1],\n",
              "       [0, 1, 1, 1, 1],\n",
              "       [0, 1, 0, 0, 1],\n",
              "       [0, 1, 1, 0, 0],\n",
              "       [0, 1, 1, 0, 1],\n",
              "       [1, 1, 1, 0, 1],\n",
              "       [0, 1, 0, 0, 1],\n",
              "       [0, 0, 0, 0, 0],\n",
              "       [0, 1, 1, 1, 1],\n",
              "       [1, 1, 0, 1, 1],\n",
              "       [0, 1, 0, 1, 0],\n",
              "       [0, 1, 1, 0, 0],\n",
              "       [0, 0, 1, 1, 1],\n",
              "       [0, 0, 1, 1, 1],\n",
              "       [1, 0, 0, 0, 1],\n",
              "       [1, 0, 0, 0, 0],\n",
              "       [1, 0, 1, 1, 1]])"
            ]
          },
          "metadata": {},
          "execution_count": 6
        }
      ]
    },
    {
      "cell_type": "markdown",
      "metadata": {
        "id": "zy5ZROmjlGo1"
      },
      "source": [
        "**Aplica el algoritmo al juego de datos generado**"
      ]
    },
    {
      "cell_type": "markdown",
      "source": [
        "Haremos el mismo proceso con estos nuevos datos, con los algorirtmos que especifique en la actividad\n",
        "\n",
        "***Algoritmo Voraz***"
      ],
      "metadata": {
        "id": "QL3TShdGHh-1"
      }
    },
    {
      "cell_type": "code",
      "source": [
        "# Ejecutar la función\n",
        "planificacion, actores_trabajando = algoritmo_voraz()\n",
        "\n",
        "# Mostrar los resultados\n",
        "if planificacion:\n",
        "    for dia in sorted(planificacion.keys()):  # Para cada día en orden\n",
        "        if planificacion[dia]:  # Si hay tomas asignadas ese día\n",
        "            print(f\"Día {dia+1}\")  # Mostramos el número de día\n",
        "            print(f\"Tomas: {[toma+1 for toma in planificacion[dia]]}\")  # Mostramos las tomas (sumamos 1 para que empiecen en 1, no en 0)\n",
        "            actores_en_dia = [actor+1 for actor in range(A_actors) if actores_trabajando[actor][dia] == 1]  # Actores que trabajan ese día\n",
        "            print(f\"Actores implicados: {actores_en_dia}\")  # Mostramos los actores\n",
        "            print()  # Línea en blanco para separar los días"
      ],
      "metadata": {
        "colab": {
          "base_uri": "https://localhost:8080/"
        },
        "id": "3qBkas6GHhAu",
        "outputId": "43bad73d-d427-4265-f1ba-97c169526f28"
      },
      "execution_count": 7,
      "outputs": [
        {
          "output_type": "stream",
          "name": "stdout",
          "text": [
            "Día 1\n",
            "Tomas: [1, 2, 3, 4, 5, 6]\n",
            "Actores implicados: [1, 2, 3, 4, 5]\n",
            "\n",
            "Día 2\n",
            "Tomas: [7, 8, 9, 10, 11, 12]\n",
            "Actores implicados: [1, 2, 3, 4, 5]\n",
            "\n",
            "Día 3\n",
            "Tomas: [13, 14, 15, 16, 17, 18]\n",
            "Actores implicados: [1, 2, 3, 4, 5]\n",
            "\n",
            "Día 4\n",
            "Tomas: [19, 20]\n",
            "Actores implicados: [1, 3, 4, 5]\n",
            "\n"
          ]
        }
      ]
    },
    {
      "cell_type": "markdown",
      "metadata": {
        "id": "_Cmj-PVylMsa"
      },
      "source": [
        "***Algoritmo PLE***\n"
      ]
    },
    {
      "cell_type": "code",
      "metadata": {
        "id": "Jkx8GeiYlUz1",
        "colab": {
          "base_uri": "https://localhost:8080/"
        },
        "outputId": "2b66cd4d-7ce8-46b2-f04d-4a2316fcad4c"
      },
      "source": [
        "from pulp import LpProblem, LpVariable, lpSum, LpMinimize, LpBinary\n",
        "\n",
        "# Definir el problema de optimización (Minimización de costos)\n",
        "prob = LpProblem(\"Minimizar_Costos_Doblaje\", LpMinimize)\n",
        "\n",
        "# Variables de decisión\n",
        "# x[t, d] = 1 si la toma 't' se graba en el día 'd'\n",
        "x = LpVariable.dicts(\"x\", [(t, d) for t in range(T) for d in range(D)], cat=LpBinary)\n",
        "# y[a, d] = 1 si el actor 'a' trabaja en el día 'd'\n",
        "y = LpVariable.dicts(\"y\", [(a, d) for a in range(A_actors) for d in range(D)], cat=LpBinary)\n",
        "\n",
        "# Restricción 1: Cada toma se asigna a un único día\n",
        "for t in range(T):\n",
        "    prob += lpSum(x[(t, d)] for d in range(D)) == 1\n",
        "\n",
        "# Restricción 2: No más de 6 tomas por día\n",
        "for d in range(D):\n",
        "    prob += lpSum(x[(t, d)] for t in range(T)) <= 6\n",
        "\n",
        "# Restricción 3: Un actor trabaja un día si participa en al menos una toma\n",
        "for a in range(A_actors):\n",
        "    for d in range(D):\n",
        "        prob += lpSum(A[t, a] * x[(t, d)] for t in range(T)) <= y[(a, d)] * T\n",
        "\n",
        "# Función objetivo: Minimizar el número total de días trabajados por los actores\n",
        "prob += lpSum(y[(a, d)] for a in range(A_actors) for d in range(D))\n",
        "\n",
        "# Resolver el problema\n",
        "prob.solve()\n",
        "\n",
        "# Procesar la solución para obtener el cronograma\n",
        "schedule = {d: [] for d in range(D)}  # Tomas asignadas a cada día\n",
        "actors_per_day = {d: set() for d in range(D)}  # Actores que trabajan cada día\n",
        "\n",
        "for t in range(T):\n",
        "    for d in range(D):\n",
        "        if x[(t, d)].varValue == 1:  # Si la toma 't' se asignó al día 'd'\n",
        "            schedule[d].append(t + 1)  # Se almacena la toma (sumando 1 para indexado humano)\n",
        "            for a in range(A_actors):\n",
        "                if A[t, a] == 1:  # Si el actor participa en la toma\n",
        "                    actors_per_day[d].add(a + 1)  # Se añade a la lista de actores (sumando 1 para indexado humano)\n",
        "\n",
        "# Imprimir la planificación óptima\n",
        "for d in sorted(schedule.keys()):\n",
        "    if schedule[d]:  # Si hay tomas programadas en este día\n",
        "        print(f\"Día {d+1}\")\n",
        "        print(f\"Tomas: {schedule[d]}\")\n",
        "        print(f\"Actores implicados: {sorted(actors_per_day[d])}\\n\")\n"
      ],
      "execution_count": 8,
      "outputs": [
        {
          "output_type": "stream",
          "name": "stdout",
          "text": [
            "Día 1\n",
            "Tomas: [1, 2, 6, 18, 19]\n",
            "Actores implicados: [1, 2, 5]\n",
            "\n",
            "Día 2\n",
            "Tomas: [3, 4, 9, 12, 13, 20]\n",
            "Actores implicados: [1, 2, 3, 4, 5]\n",
            "\n",
            "Día 3\n",
            "Tomas: [7, 11, 15]\n",
            "Actores implicados: [2, 3]\n",
            "\n",
            "Día 5\n",
            "Tomas: [5, 8, 10, 14, 16, 17]\n",
            "Actores implicados: [2, 3, 4, 5]\n",
            "\n"
          ]
        }
      ]
    },
    {
      "cell_type": "markdown",
      "metadata": {
        "id": "eTFWUJQrtGcv"
      },
      "source": [
        "**Enumera las referencias que has utilizado(si ha sido necesario) para llevar a cabo el trabajo**"
      ]
    },
    {
      "cell_type": "markdown",
      "metadata": {
        "id": "YKQ_mRBttWsP"
      },
      "source": [
        "- Reyero, R. (s.f.). *Algoritmos de Optimización*. Universidad VIU. Recuperado de  \n",
        "  [https://learn.universidadviu.com/courses/1/2024_10_C_50688/content/_7473597_1/resources/03miar_rreyero.pdf](https://learn.universidadviu.com/courses/1/2024_10_C_50688/content/_7473597_1/resources/03miar_rreyero.pdf)\n",
        "- COIN-OR Foundation. (s.f.). *PuLP: Python Linear Programming*. Recuperado de  \n",
        "  [https://coin-or.github.io/pulp/](https://coin-or.github.io/pulp/)\n",
        "- Sala, A. *Programación Lineal Entera*. Universitat de València. Recuperado de  \n",
        "  [https://www.uv.es/~sala/Clase14.pdf](https://www.uv.es/~sala/Clase14.pdf)\n",
        "\n",
        "- Cameán Pérez, J. A. (2013). Diseño y desarrollo de un sistema de planificación de tareas para minimizar días trabajados por empleados. Universidade de Santiago de Compostela. http://eio.usc.es/pub/mte/descargas/ProyectosFinMaster/Proyecto_759.pdf\n",
        "\n",
        "- Ris, M. (2004). Algoritmos voraces: Teoría y aplicaciones. Universidad de Chile. https://www.dii.uchile.cl/~ris/articulos/Prismas.pdf\n",
        "\n",
        "- Cameán Pérez, J. A., & Gómez-Coca, S. (2011). Optimización de la asignación de turnos de trabajo minimizando días de trabajo. X Congreso de la Sociedad Gallega para la Promoción de la Estadística e Investigación Operativa (SGAPEIO). https://www.sgapeio.es/descargas/congresos_SGAPEIO/xsgapeio.uvigo.es/resumenes/41_14_paper.pdf\n",
        "\n",
        "- Cedeño Zurita, C. A. (2012). Algoritmos para problemas de programación de tareas en entornos de producción flexibles (Tesis de grado). Escuela Politécnica Nacional, Quito. https://bibdigital.epn.edu.ec/bitstream/15000/2464/1/CD-3170.pdf"
      ]
    },
    {
      "cell_type": "markdown",
      "metadata": {
        "id": "kAkDPUyRtYyH"
      },
      "source": [
        "**Describe brevemente las lineas de como crees que es posible avanzar en el estudio del problema. Ten en cuenta incluso posibles variaciones del problema y/o variaciones al alza del tamaño**"
      ]
    },
    {
      "cell_type": "markdown",
      "metadata": {
        "id": "IE0uZmo-tZu-"
      },
      "source": [
        "Bueno el estudio tiene varios puntos que se pueden llegar a tratar:\n",
        "\n",
        "- Añadir nuevas restricciones como coste de ciertos actores, asi como el tiempo de disponibilidad de ciertos de ellos. También que puede que un dia se enferme un actor principal para ver el comportamiento del algoritmo. Algo asi como gemelos digitales de ciertas compañias.\n",
        "- Se podria también poner como incremental que ciertos actores deben estar si o si en ciertas escenas, es decir, actor 1 y 2 siempre deben estar juntos.\n",
        "- Dado que el PLE es un algoritmo NP-duro, experimentariamos como incremental un metodo heurístico, pues su objetivo es encontrar soluciones buenas a problemas complejos en terminos de tiempo y coste computacional. Primero tomaria como prueba el algoritmo Genetico para integración crossover y mutación."
      ]
    }
  ]
}