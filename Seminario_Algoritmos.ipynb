{
  "nbformat": 4,
  "nbformat_minor": 0,
  "metadata": {
    "colab": {
      "provenance": [],
      "include_colab_link": true
    },
    "kernelspec": {
      "name": "python3",
      "display_name": "Python 3"
    }
  },
  "cells": [
    {
      "cell_type": "markdown",
      "metadata": {
        "id": "view-in-github",
        "colab_type": "text"
      },
      "source": [
        "<a href=\"https://colab.research.google.com/github/OwenJ-bot/Algoritmos-de-Optimizacion/blob/main/Seminario_Algoritmos.ipynb\" target=\"_parent\"><img src=\"https://colab.research.google.com/assets/colab-badge.svg\" alt=\"Open In Colab\"/></a>"
      ]
    },
    {
      "cell_type": "markdown",
      "metadata": {
        "id": "hVbXYX-RfPWh"
      },
      "source": [
        "# Algoritmos de optimización - Seminario<br>\n",
        "Nombre y Apellidos: **Owen Dadney Jiménez Chala**  <br>\n",
        "Url: https://github.com/OwenJ-bot/Algoritmos-de-Optimizacion/blob/main/Seminario_Algoritmos.ipynb<br>\n",
        "Problema:\n",
        "> 1. Sesiones de doblaje <br>\n",
        "\n",
        "Descripción del problema:(copiar enunciado)\n",
        "\n",
        "Se precisa coordinar el doblaje de una película. Los actores del doblaje deben coincidir en las tomas en las que sus personajes aparecen juntos en las diferentes tomas. Los actores de doblaje cobran todos la misma cantidad por cada día que deben desplazarse hasta el estudio de grabación independientemente del número de tomas que se graben. No es posible grabar más de 6 tomas por día. El objetivo es planificar las sesiones por día de manera que el gasto por los\n",
        "servicios de los actores de doblaje sea el menor posible.\n",
        "\n",
        "(*) La respuesta es obligatoria\n",
        "\n",
        "\n",
        "\n",
        "\n",
        "\n",
        "                                        "
      ]
    },
    {
      "cell_type": "markdown",
      "metadata": {
        "id": "3_-exlrTgLd-"
      },
      "source": [
        "(*)¿Cuantas posibilidades hay sin tener en cuenta las restricciones?<br>\n",
        "\n",
        "\n",
        "\n",
        "¿Cuantas posibilidades hay teniendo en cuenta todas las restricciones.\n",
        "\n",
        "\n"
      ]
    },
    {
      "cell_type": "markdown",
      "metadata": {
        "id": "WfCUqJyKhPcw"
      },
      "source": [
        "Para calcular el número total de combinaciones posibles sin restricciones, consideramos que cada una de las *T* tomas puede asignarse a uno de los *D* días. Dado que cada toma puede ser programada en cualquier día, el número total de combinaciones sera:\n",
        "\n",
        "$$\\mathbf{D^T}$$\n",
        "\n",
        "Es decir, que en nuestro ejercicio tenemos *T*=30 tomas y supongamos que queremos que esten en *D* = 3 días disponibles. Cada toma puede ser asignada libremente a cualquiera de los tres días. Entonces, la cantidad de maneras en las que podemos asignar las tomas seria:\n",
        "\n",
        "\\$$3^{30} = 205.891.132.094.649$$\n",
        "\n",
        "Esto significa que existen 205.891.132.094.649 formas diferentes de distribuir las 30 tomas en los 3 días, esto sin tener en cuenta las restricciones como la cantidad de actores disponibles o el límite de tomas por día.\n",
        "\n",
        "Si consideraramos dichas restricciones las posibilidades se reduciran, pues se restringe a que cada toma debe asignarse a un solo dia, no compremetiendo posibilidades de que en cualquier dia se puede terminar la toma. También que no se pueden programar más de 6 tomas por día.\n",
        "\n",
        "Por ejemplo, tenemos 30 tomas que deben ser asignadas. Estas se pueden distribuir en un máximo de *D* < 6 días; ademas, cada toma tiene un conjunto de actores asociados, un actor solo trabaja en un día si al menos una de sus tomas está asignada a ese día. El objetivo es minimizar los días trabajados por los actores."
      ]
    },
    {
      "cell_type": "code",
      "metadata": {
        "id": "iq6Fe32MgpDX"
      },
      "source": [],
      "execution_count": null,
      "outputs": []
    },
    {
      "cell_type": "markdown",
      "metadata": {
        "id": "dzynfVJahHoY"
      },
      "source": [
        "Modelo para el espacio de soluciones<br>\n",
        "(*) ¿Cual es la estructura de datos que mejor se adapta al problema? Argumentalo.(Es posible que hayas elegido una al principio y veas la necesidad de cambiar, arguentalo)\n"
      ]
    },
    {
      "cell_type": "markdown",
      "metadata": {
        "id": "xFIJrOwKi2Ti"
      },
      "source": [
        "Para representar y resolver este problema de planificación de tomas de doblaje, la estructura de datos más adecuada es matrices y diccionarios. Esto se debe a la naturaleza combinatoria del problema, donde las relaciones entre tomas y actores deben ser organizadas de manera eficiente.\n",
        "\n",
        "Por ejemplo, definamos A cono una matriz binaria para representar la relación Tomas-Actores, tenemos que $A_{i,j} = 1$, si el actor $j$ paricipa en la toma $i$ y $0$ en otro caso,\n",
        "\n",
        "$$ A = \\begin{bmatrix}\n",
        "1 & 0 & 1 & 0 \\\\\n",
        "0 & 1 & 0 & 1 \\\\\n",
        "1 & 1 & 0 & 0 \\\\\n",
        "\\end{bmatrix}$$  \n",
        "\n",
        "En este caso, la primera toma tiene los actores 1 y 3, la segunda toma tiene los actores 2 y 4, y la tercera contiene a los actores 1 y 2, asi sucesivamente llegando a $i,j$ Tomas,Actores.\n",
        "\n",
        "Podriamos considerar un diccionario para modelar variables de optimización, pues estos nos permiten acceder a las variables de manera rápida y eficiente, asi como a manejar grandes cantidades de combinaciones posibles, entre otros beneficios de creación de diccionarios.\n",
        "\n",
        "Supongamos que creamos un diccionario llamado $X$ con entrada $(t,d): valor$, donde $t$ es el número de la toma, $d$ es el día en el que podria asignarse la toma y $valor$ seria $1$ si la toma está asignada a ese día, $0$ si no lo está.\n",
        "\n",
        "Esto significa que por cada toma $t$ y día $d$, creamos una variable binaria que indica si esa toma se realiza en ese día. Pero aqui no quedaria el diccionario a cabalidad, ya que falta la parte de los actores, asi que creariamos otro diccionario $Y$ para indicar si un actor trabaja en un día determinado.\n",
        "\n",
        "Cada entrada en $Y$ tendria la forma $(a, d): valor$,  donde $a$ es el número del actor, $d$ es el dia y $valor$, similar al anterior, $1$ si el actor trabaja ese día, $0$ si no.\n",
        "\n",
        "Así diccionario ayudaria a calcular cuántos días trabajan los actores y a minimizar ese número en nuestra solución."
      ]
    },
    {
      "cell_type": "code",
      "metadata": {
        "id": "38c-7-ejhJmA"
      },
      "source": [
        "X = {(t, d): LpVariable(f\"x_{t}_{d}\", cat=LpBinary) for t in range(T) for d in range(D)}\n",
        "Y = {(a, d): LpVariable(f\"y_{a}_{d}\", cat=LpBinary) for a in range(A_actors) for d in range(D)}"
      ],
      "execution_count": null,
      "outputs": []
    },
    {
      "cell_type": "markdown",
      "metadata": {
        "id": "7Z9U2W7bi-XS"
      },
      "source": [
        "Según el modelo para el espacio de soluciones<br>\n",
        "(*)¿Cual es la función objetivo?\n",
        "\n",
        "(*)¿Es un problema de maximización o minimización?"
      ]
    },
    {
      "cell_type": "markdown",
      "metadata": {
        "id": "hBalWLM7j1_d"
      },
      "source": [
        "La función objetivo del modelo es minimizar el número total de días trabajados por los actores. Esto se expresa matemáticamente como:\n",
        "\n",
        "$$min\\sum_{a=1}^{A}\\sum_{d=1}^{D}y_{a,d}$$\n",
        "\n",
        ",donde $y_{a,d}$ es una variable binaria que indica si el actor $a$ trabaja en el día $d$. $A$ es el número total de actores y $D$ es el número máximo de días posibles para realizar las tomas.\n",
        "\n",
        "Supongamos que en nuestro ejemplo, es decir, 10 actores y 30 tomas se deben distribuir en un máximo de 5 días. Si una planificación distribuye las tomas de forma que cada actor trabaja 3 días en total, la función objetivo devolvería:\n",
        "\n",
        "$$min\\sum_{a=1}^{10}\\sum_{d=1}^{5}y_{a,d} = 3 \\times 10 = 30$$\n",
        "\n",
        "Pero si encontramos una mejor planificación donde cada actor solo trabaja 2 días en total, entonces la función objetivo se reducira a:\n",
        "\n",
        "$$min\\sum_{a=1}^{10}\\sum_{d=1}^{5}y_{a,d} = 2 \\times 10 = 20$$\n",
        "\n",
        "Como denotamos, es una función objetivo que busca minimizar este valor, la solución óptima será aquella que distribuya las tomas de manera eficiente para que los actores trabajen el menor número de días posible."
      ]
    },
    {
      "cell_type": "code",
      "metadata": {
        "id": "pDA-rg3Gj5Lz"
      },
      "source": [],
      "execution_count": null,
      "outputs": []
    },
    {
      "cell_type": "markdown",
      "metadata": {
        "id": "rlnTYgY1j6I2"
      },
      "source": [
        "Diseña un algoritmo para resolver el problema por fuerza bruta"
      ]
    },
    {
      "cell_type": "markdown",
      "metadata": {
        "id": "70rDgxYXkC8r"
      },
      "source": [
        "A continuación se implementa un algoritmo de fuerza bruta para encontrar la mejor manera de agrupar las tomas en días, minimizando la cantidad de días en los que trabajan los actores. Se granatiza esto con el uso de $itertools.permutations$ que genera todas las combinaciones posibles de las tomas para evaluar cuál distribución minimiza el número de días trabajados."
      ]
    },
    {
      "cell_type": "code",
      "source": [
        "from itertools import permutations\n",
        "import numpy as np\n",
        "\n",
        "A = np.array([\n",
        "    [1,1,1,1,1,0,0,0,0,0],\n",
        "    [0,0,1,1,1,0,0,0,0,0],\n",
        "    [0,1,0,0,1,0,1,0,0,0],\n",
        "    [1,1,0,0,0,0,1,1,0,0],\n",
        "    [0,1,0,1,0,0,0,1,0,0],\n",
        "    [1,1,0,1,1,0,0,0,0,0],\n",
        "    [1,1,0,1,1,0,0,0,0,0],\n",
        "    [1,1,0,0,0,1,0,0,0,0],\n",
        "    [1,1,0,1,0,0,0,0,0,0],\n",
        "    [1,1,0,0,0,1,0,0,1,0],\n",
        "    [1,1,1,0,1,0,0,1,0,0],\n",
        "    [1,1,1,1,0,1,0,0,0,0],\n",
        "    [1,0,0,1,1,0,0,0,0,0],\n",
        "    [1,0,1,0,0,1,0,0,0,0],\n",
        "    [1,1,0,0,0,0,1,0,0,0],\n",
        "    [0,0,0,1,0,0,0,0,0,1],\n",
        "    [1,0,1,0,0,0,0,0,0,0],\n",
        "    [0,0,1,0,0,1,0,0,0,0],\n",
        "    [1,0,1,0,0,0,0,0,0,0],\n",
        "    [1,0,1,1,1,0,0,0,0,0],\n",
        "    [0,0,0,0,0,1,0,1,0,0],\n",
        "    [1,1,1,1,0,0,0,0,0,0],\n",
        "    [1,0,1,0,0,0,0,0,0,0],\n",
        "    [0,0,1,0,0,1,0,0,0,0],\n",
        "    [1,1,0,1,0,0,0,0,0,1],\n",
        "    [1,0,1,0,1,0,0,0,1,0],\n",
        "    [0,0,0,1,1,0,0,0,0,0],\n",
        "    [1,0,0,1,0,0,0,0,0,0],\n",
        "    [1,0,0,0,1,1,0,0,0,0],\n",
        "    [1,0,0,1,0,0,0,0,0,0],\n",
        "])\n",
        "\n",
        "T, A_actors = A.shape  # Número de tomas y actores\n",
        "D = (T + 5) // 6  # Número máximo de días (se divide por 6 ya que no pueden grabarse más de 6 tomas por día)\n",
        "\n",
        "# Algoritmo de fuerza bruta para minimizar los días trabajados por actores\n",
        "def brute_force_schedule():\n",
        "    min_days = float('inf')\n",
        "    best_schedule = None\n",
        "\n",
        "    for perm in permutations(range(T)):\n",
        "        temp_schedule = {d: [] for d in range(D)}\n",
        "        temp_actors_per_day = {d: set() for d in range(D)}\n",
        "\n",
        "        for i, t in enumerate(perm):\n",
        "            d = i // 6\n",
        "            temp_schedule[d].append(t + 1)\n",
        "            for a in range(A_actors):\n",
        "                if A[t, a] == 1:\n",
        "                    temp_actors_per_day[d].add(a + 1)\n",
        "\n",
        "        total_days = sum(1 for d in temp_actors_per_day if temp_actors_per_day[d])\n",
        "        if total_days < min_days:\n",
        "            min_days = total_days\n",
        "            best_schedule = temp_schedule\n",
        "\n",
        "    return best_schedule\n",
        "\n",
        "# Ejecutar el algoritmo de fuerza bruta\n",
        "brute_force_result = brute_force_schedule()\n",
        "if brute_force_result:\n",
        "    for d in sorted(brute_force_result.keys()):\n",
        "        if brute_force_result[d]:\n",
        "            print(f\"Día {d+1}\")\n",
        "            print(f\"Tomas: {brute_force_result[d]}\")\n",
        "            print()"
      ],
      "metadata": {
        "id": "uTgvrvxFhs0_"
      },
      "execution_count": null,
      "outputs": []
    },
    {
      "cell_type": "markdown",
      "metadata": {
        "id": "tgrnsC2nkFa8"
      },
      "source": [
        "Calcula la complejidad del algoritmo por fuerza bruta"
      ]
    },
    {
      "cell_type": "markdown",
      "metadata": {
        "id": "9eUd3xwckP68"
      },
      "source": [
        "La complejidad computacional del algoritmo por fuerza bruta se debe en su mayor parte a la Generación de Permutaciones $(permutations)$, el número de maneras de ordenar las $T$ tomas es $T!$.\n",
        "\n",
        "Dentro de este esta la Distribución de Tomas en Días $(enumerate)$ este recorre las tomas una por una, asignándolas a días y contando actores implicados. Esto tiene una complejidad de $O(T)$ por cada permutación. Asi, la complejidad total del algoritmo por fuerza bruta es:\n",
        "\n",
        "$$O(T! \\cdot T)$$\n",
        "\n",
        "Es extremadamente costoso para valores grandes, especialmente para un incremento en $T$ tomas.\n",
        "\n",
        "\n"
      ]
    },
    {
      "cell_type": "code",
      "metadata": {
        "id": "rvZWwL-ckRST"
      },
      "source": [],
      "execution_count": null,
      "outputs": []
    },
    {
      "cell_type": "markdown",
      "metadata": {
        "id": "txbrmLmskReM"
      },
      "source": [
        "(*)Diseña un algoritmo que mejore la complejidad del algortimo por fuerza bruta. Argumenta porque crees que mejora el algoritmo por fuerza bruta"
      ]
    },
    {
      "cell_type": "markdown",
      "metadata": {
        "id": "hLrVwt5QkZPD"
      },
      "source": [
        "Usaremos un algoritmo de programación lineal entera (PLE), pues como se define en la guia, un problema de programación lineal es aquel que trata de maximizar (o minimizar en nuestro caso) una función objetivo lineal sujeta a unas restricciones de igualdad o desigualdad. Tal como se plante en el problema que queremos solucionar, pues aunque fuerza bruta puede llegar al resultado, la complejidad computacional no lo dejaria ejecutar n veces para casos diferentes. También como todas las variables del problema son enteras, el problema se considera puro.\n",
        "\n",
        "Haremos usp del paquete pulp, este permite formular y resolver problemas de optimización lineal y programación lineal entera."
      ]
    },
    {
      "cell_type": "code",
      "metadata": {
        "id": "m1eyM21Vkabg",
        "colab": {
          "base_uri": "https://localhost:8080/"
        },
        "outputId": "906e9b66-f395-4c43-b006-18930b8fb53c"
      },
      "source": [
        "!pip install pulp\n",
        "\n",
        "from pulp import LpProblem, LpVariable, lpSum, LpMinimize, LpBinary\n",
        "import numpy as np\n",
        "\n",
        "# Datos de la matriz (actores en tomas)\n",
        "# Cada fila representa una toma y cada columna representa un actor.\n",
        "# Un '1' indica que el actor participa en la toma correspondiente.\n",
        "A = np.array([\n",
        "    [1,1,1,1,1,0,0,0,0,0],\n",
        "    [0,0,1,1,1,0,0,0,0,0],\n",
        "    [0,1,0,0,1,0,1,0,0,0],\n",
        "    [1,1,0,0,0,0,1,1,0,0],\n",
        "    [0,1,0,1,0,0,0,1,0,0],\n",
        "    [1,1,0,1,1,0,0,0,0,0],\n",
        "    [1,1,0,1,1,0,0,0,0,0],\n",
        "    [1,1,0,0,0,1,0,0,0,0],\n",
        "    [1,1,0,1,0,0,0,0,0,0],\n",
        "    [1,1,0,0,0,1,0,0,1,0],\n",
        "    [1,1,1,0,1,0,0,1,0,0],\n",
        "    [1,1,1,1,0,1,0,0,0,0],\n",
        "    [1,0,0,1,1,0,0,0,0,0],\n",
        "    [1,0,1,0,0,1,0,0,0,0],\n",
        "    [1,1,0,0,0,0,1,0,0,0],\n",
        "    [0,0,0,1,0,0,0,0,0,1],\n",
        "    [1,0,1,0,0,0,0,0,0,0],\n",
        "    [0,0,1,0,0,1,0,0,0,0],\n",
        "    [1,0,1,0,0,0,0,0,0,0],\n",
        "    [1,0,1,1,1,0,0,0,0,0],\n",
        "    [0,0,0,0,0,1,0,1,0,0],\n",
        "    [1,1,1,1,0,0,0,0,0,0],\n",
        "    [1,0,1,0,0,0,0,0,0,0],\n",
        "    [0,0,1,0,0,1,0,0,0,0],\n",
        "    [1,1,0,1,0,0,0,0,0,1],\n",
        "    [1,0,1,0,1,0,0,0,1,0],\n",
        "    [0,0,0,1,1,0,0,0,0,0],\n",
        "    [1,0,0,1,0,0,0,0,0,0],\n",
        "    [1,0,0,0,1,1,0,0,0,0],\n",
        "    [1,0,0,1,0,0,0,0,0,0],\n",
        "])\n",
        "\n",
        "T, A_actors = A.shape  # Número de tomas y actores\n",
        "D = (T + 5) // 6  # Número máximo de días (se divide por 6 ya que no pueden grabarse más de 6 tomas por día)\n",
        "\n",
        "# Definir el problema de optimización (Minimización de costos)\n",
        "prob = LpProblem(\"Minimizar_Costos_Doblaje\", LpMinimize)\n",
        "\n",
        "# Variables de decisión\n",
        "# x[t, d] = 1 si la toma 't' se graba en el día 'd'\n",
        "x = LpVariable.dicts(\"x\", [(t, d) for t in range(T) for d in range(D)], cat=LpBinary)\n",
        "# y[a, d] = 1 si el actor 'a' trabaja en el día 'd'\n",
        "y = LpVariable.dicts(\"y\", [(a, d) for a in range(A_actors) for d in range(D)], cat=LpBinary)\n",
        "\n",
        "# Restricción 1: Cada toma se asigna a un único día\n",
        "for t in range(T):\n",
        "    prob += lpSum(x[(t, d)] for d in range(D)) == 1\n",
        "\n",
        "# Restricción 2: No más de 6 tomas por día\n",
        "for d in range(D):\n",
        "    prob += lpSum(x[(t, d)] for t in range(T)) <= 6\n",
        "\n",
        "# Restricción 3: Un actor trabaja un día si participa en al menos una toma\n",
        "for a in range(A_actors):\n",
        "    for d in range(D):\n",
        "        prob += lpSum(A[t, a] * x[(t, d)] for t in range(T)) <= y[(a, d)] * T\n",
        "\n",
        "# Función objetivo: Minimizar el número total de días trabajados por los actores\n",
        "prob += lpSum(y[(a, d)] for a in range(A_actors) for d in range(D))\n",
        "\n",
        "# Resolver el problema\n",
        "prob.solve()\n",
        "\n",
        "# Procesar la solución para obtener el cronograma\n",
        "schedule = {d: [] for d in range(D)}  # Tomas asignadas a cada día\n",
        "actors_per_day = {d: set() for d in range(D)}  # Actores que trabajan cada día\n",
        "\n",
        "for t in range(T):\n",
        "    for d in range(D):\n",
        "        if x[(t, d)].varValue == 1:  # Si la toma 't' se asignó al día 'd'\n",
        "            schedule[d].append(t + 1)  # Se almacena la toma (sumando 1 para indexado humano)\n",
        "            for a in range(A_actors):\n",
        "                if A[t, a] == 1:  # Si el actor participa en la toma\n",
        "                    actors_per_day[d].add(a + 1)  # Se añade a la lista de actores (sumando 1 para indexado humano)\n",
        "\n",
        "# Imprimir la planificación óptima\n",
        "for d in sorted(schedule.keys()):\n",
        "    if schedule[d]:  # Si hay tomas programadas en este día\n",
        "        print(f\"Día {d+1}\")\n",
        "        print(f\"Tomas: {schedule[d]}\")\n",
        "        print(f\"Actores implicados: {sorted(actors_per_day[d])}\\n\")"
      ],
      "execution_count": null,
      "outputs": [
        {
          "output_type": "stream",
          "name": "stdout",
          "text": [
            "Requirement already satisfied: pulp in /usr/local/lib/python3.11/dist-packages (2.9.0)\n",
            "Día 1\n",
            "Tomas: [6, 7, 9, 13, 16, 25]\n",
            "Actores implicados: [1, 2, 4, 5, 10]\n",
            "\n",
            "Día 2\n",
            "Tomas: [3, 4, 8, 10, 15, 29]\n",
            "Actores implicados: [1, 2, 5, 6, 7, 8, 9]\n",
            "\n",
            "Día 3\n",
            "Tomas: [1, 5, 11, 12, 21, 22]\n",
            "Actores implicados: [1, 2, 3, 4, 5, 6, 8]\n",
            "\n",
            "Día 4\n",
            "Tomas: [14, 17, 18, 19, 23, 24]\n",
            "Actores implicados: [1, 3, 6]\n",
            "\n",
            "Día 5\n",
            "Tomas: [2, 20, 26, 27, 28, 30]\n",
            "Actores implicados: [1, 3, 4, 5, 9]\n",
            "\n"
          ]
        }
      ]
    },
    {
      "cell_type": "markdown",
      "metadata": {
        "id": "eGDB4K6uk1iN"
      },
      "source": [
        "(*)Calcula la complejidad del algoritmo"
      ]
    },
    {
      "cell_type": "markdown",
      "metadata": {
        "id": "NhpTh_BPk1ms"
      },
      "source": [
        "Se debe tener en cuenta que los PLE son NP-duros, es decir, que el tiempo de resolución depende del tamaño de entrada y la estructura del problema.\n",
        "\n",
        "El algoritmo tiene diferentes enfoques que puede cambiar su complejidad, analizaremos de a poco para llegar a una conclusión.\n",
        "\n",
        "Lo primero en el algoritmo son las variables de decisión, es decir los diccionarios que van capturando el resultado tienen el siguiente orden:\n",
        "\n",
        "- $x[t, d]$ : $T \\times D$ variables binarias para asignar tomas a días.\n",
        "- $y[a, d]$ : $A \\times D$ variables binarias para los actores por día.\n",
        "\n",
        "Por lo tanto por este lado tendriamos una suma de ambas variables vinarias\n",
        "\n",
        "$$O(TD+AD)$$\n",
        "\n",
        "Ahora, veremos la complejidad de cada una de las tres restricciones:\n",
        "\n",
        "- Cada toma debe asignarse a un solo día, este tiene una complejidad de $O(T)$, es un for dado solo hacia las tomas\n",
        "- No más de 6 tomas por día, esta restricción tiene una complejidad de $O(D)$.\n",
        "- Un actor trabaja un día si participa en al menos una toma, esta podria considerarse que tiene una complejidad de $O(AD)$, viene de un for anidado que implica los dias junto con los actores. Por lo tanto,\n",
        "\n",
        "$$O(A\\times D\\times T)$$\n",
        "\n",
        "El útimo fragmento de codigo nos muestra que tiene dos bucles anidados precedidos por un if:\n",
        "- El primero de estos bucles tiene un for que Itera sobre todas las tomas $(T)$ y otro que Itera sobre todos los días $(D)$. Es decir, que tiene complejidad $O\n",
        "(T \\times D)$.\n",
        "- El condicional solo verifica si la toma t se asignó al día d. Por lo tanto esta operación es $O(1)$.\n",
        "- El segundo bucle empieza iterando sobre los Actores, $O(A)$, precide por un condicional que comprueba si el actor $a$ participa en la toma $t$, $O(1)$, lo mismo sucede con el .add, pues añade a el actor al conjunto del día $d$, $O(1)$.Asi que aqui también tiene un comportamiento parecido y por lo tanto esta sera la complejidad del algoritmo total\n",
        "\n",
        "$$O(A\\times D\\times T)$$\n",
        "\n",
        "Dependera de los Actores, de los dias y de las tomas. Entre mas grandes sean mas complejo sera el resultado.\n",
        "\n",
        "\n"
      ]
    },
    {
      "cell_type": "code",
      "metadata": {
        "id": "nREzhkStlCq8"
      },
      "source": [],
      "execution_count": null,
      "outputs": []
    },
    {
      "cell_type": "markdown",
      "metadata": {
        "id": "3M6QjTsSkmYe"
      },
      "source": [
        "Según el problema (y tenga sentido), diseña un juego de datos de entrada aleatorios"
      ]
    },
    {
      "cell_type": "markdown",
      "metadata": {
        "id": "Jc3_OlyNkvjZ"
      },
      "source": [
        "Cambiaremos un poco los datos, esta vez se haran 20 tomas, solo con 5 actores, en un maximo de 5 dias. Se añade la semilla para reproducibilidad"
      ]
    },
    {
      "cell_type": "code",
      "metadata": {
        "id": "sJ-N2etjkyWc",
        "colab": {
          "base_uri": "https://localhost:8080/"
        },
        "outputId": "e3169539-d4b3-4d31-ede6-18503d5e3039"
      },
      "source": [
        "import numpy as np\n",
        "\n",
        "# Parámetros para generar datos aleatorios\n",
        "num_tomas = 20  # Número de tomas\n",
        "num_actores = 5  # Número de actores\n",
        "\n",
        "# Generar una matriz aleatoria de participación de actores en tomas\n",
        "# Cada actor tiene una probabilidad del 50% de estar en una toma\n",
        "np.random.seed(42)  # Para reproducibilidad\n",
        "A = (np.random.rand(num_tomas, num_actores) < 0.5).astype(int)\n",
        "\n",
        "T, A_actors = A.shape  # Número de tomas y actores\n",
        "D = (T + 5) // 5  # Número máximo de días (se divide por 5 ya que no pueden grabarse más de 5 tomas por día)\n",
        "\n",
        "A #20 tomas(filas) , 5 actores(columnas)"
      ],
      "execution_count": null,
      "outputs": [
        {
          "output_type": "execute_result",
          "data": {
            "text/plain": [
              "array([[1, 0, 0, 0, 1],\n",
              "       [1, 1, 0, 0, 0],\n",
              "       [1, 0, 0, 1, 1],\n",
              "       [1, 1, 0, 1, 1],\n",
              "       [0, 1, 1, 1, 1],\n",
              "       [0, 1, 0, 0, 1],\n",
              "       [0, 1, 1, 0, 0],\n",
              "       [0, 1, 1, 0, 1],\n",
              "       [1, 1, 1, 0, 1],\n",
              "       [0, 1, 0, 0, 1],\n",
              "       [0, 0, 0, 0, 0],\n",
              "       [0, 1, 1, 1, 1],\n",
              "       [1, 1, 0, 1, 1],\n",
              "       [0, 1, 0, 1, 0],\n",
              "       [0, 1, 1, 0, 0],\n",
              "       [0, 0, 1, 1, 1],\n",
              "       [0, 0, 1, 1, 1],\n",
              "       [1, 0, 0, 0, 1],\n",
              "       [1, 0, 0, 0, 0],\n",
              "       [1, 0, 1, 1, 1]])"
            ]
          },
          "metadata": {},
          "execution_count": 14
        }
      ]
    },
    {
      "cell_type": "markdown",
      "metadata": {
        "id": "zy5ZROmjlGo1"
      },
      "source": [
        "Aplica el algoritmo al juego de datos generado"
      ]
    },
    {
      "cell_type": "markdown",
      "metadata": {
        "id": "_Cmj-PVylMsa"
      },
      "source": [
        "Se considera el mismo proceso"
      ]
    },
    {
      "cell_type": "code",
      "metadata": {
        "id": "Jkx8GeiYlUz1",
        "colab": {
          "base_uri": "https://localhost:8080/"
        },
        "outputId": "d3e3e303-e373-4378-a1d0-f8f20acc2ad7"
      },
      "source": [
        "from pulp import LpProblem, LpVariable, lpSum, LpMinimize, LpBinary\n",
        "\n",
        "# Definir el problema de optimización (Minimización de costos)\n",
        "prob = LpProblem(\"Minimizar_Costos_Doblaje\", LpMinimize)\n",
        "\n",
        "# Variables de decisión\n",
        "# x[t, d] = 1 si la toma 't' se graba en el día 'd'\n",
        "x = LpVariable.dicts(\"x\", [(t, d) for t in range(T) for d in range(D)], cat=LpBinary)\n",
        "# y[a, d] = 1 si el actor 'a' trabaja en el día 'd'\n",
        "y = LpVariable.dicts(\"y\", [(a, d) for a in range(A_actors) for d in range(D)], cat=LpBinary)\n",
        "\n",
        "# Restricción 1: Cada toma se asigna a un único día\n",
        "for t in range(T):\n",
        "    prob += lpSum(x[(t, d)] for d in range(D)) == 1\n",
        "\n",
        "# Restricción 2: No más de 6 tomas por día\n",
        "for d in range(D):\n",
        "    prob += lpSum(x[(t, d)] for t in range(T)) <= 6\n",
        "\n",
        "# Restricción 3: Un actor trabaja un día si participa en al menos una toma\n",
        "for a in range(A_actors):\n",
        "    for d in range(D):\n",
        "        prob += lpSum(A[t, a] * x[(t, d)] for t in range(T)) <= y[(a, d)] * T\n",
        "\n",
        "# Función objetivo: Minimizar el número total de días trabajados por los actores\n",
        "prob += lpSum(y[(a, d)] for a in range(A_actors) for d in range(D))\n",
        "\n",
        "# Resolver el problema\n",
        "prob.solve()\n",
        "\n",
        "# Procesar la solución para obtener el cronograma\n",
        "schedule = {d: [] for d in range(D)}  # Tomas asignadas a cada día\n",
        "actors_per_day = {d: set() for d in range(D)}  # Actores que trabajan cada día\n",
        "\n",
        "for t in range(T):\n",
        "    for d in range(D):\n",
        "        if x[(t, d)].varValue == 1:  # Si la toma 't' se asignó al día 'd'\n",
        "            schedule[d].append(t + 1)  # Se almacena la toma (sumando 1 para indexado humano)\n",
        "            for a in range(A_actors):\n",
        "                if A[t, a] == 1:  # Si el actor participa en la toma\n",
        "                    actors_per_day[d].add(a + 1)  # Se añade a la lista de actores (sumando 1 para indexado humano)\n",
        "\n",
        "# Imprimir la planificación óptima\n",
        "for d in sorted(schedule.keys()):\n",
        "    if schedule[d]:  # Si hay tomas programadas en este día\n",
        "        print(f\"Día {d+1}\")\n",
        "        print(f\"Tomas: {schedule[d]}\")\n",
        "        print(f\"Actores implicados: {sorted(actors_per_day[d])}\\n\")\n"
      ],
      "execution_count": null,
      "outputs": [
        {
          "output_type": "stream",
          "name": "stdout",
          "text": [
            "Día 1\n",
            "Tomas: [1, 2, 6, 18, 19]\n",
            "Actores implicados: [1, 2, 5]\n",
            "\n",
            "Día 2\n",
            "Tomas: [3, 4, 9, 12, 13, 20]\n",
            "Actores implicados: [1, 2, 3, 4, 5]\n",
            "\n",
            "Día 3\n",
            "Tomas: [7, 11, 15]\n",
            "Actores implicados: [2, 3]\n",
            "\n",
            "Día 5\n",
            "Tomas: [5, 8, 10, 14, 16, 17]\n",
            "Actores implicados: [2, 3, 4, 5]\n",
            "\n"
          ]
        }
      ]
    },
    {
      "cell_type": "markdown",
      "metadata": {
        "id": "eTFWUJQrtGcv"
      },
      "source": [
        "Enumera las referencias que has utilizado(si ha sido necesario) para llevar a cabo el trabajo"
      ]
    },
    {
      "cell_type": "markdown",
      "metadata": {
        "id": "YKQ_mRBttWsP"
      },
      "source": [
        "- Reyero, R. (s.f.). Algoritmos de Optimización . Universidad VIU. Recuperado de https://learn.universidadviu.com/courses/1/2024_10_C_50688/content/_7473597_1/resources/03miar_rreyero.pdf\n",
        "- COIN-OR Foundation. (s.f.). PuLP: Python Linear Programming. Recuperado de https://coin-or.github.io/pulp/\n",
        "- Sala, A. Programación Lineal Entera. Universitat de València. de https://www.uv.es/~sala/Clase14.pdf"
      ]
    },
    {
      "cell_type": "markdown",
      "metadata": {
        "id": "kAkDPUyRtYyH"
      },
      "source": [
        "Describe brevemente las lineas de como crees que es posible avanzar en el estudio del problema. Ten en cuenta incluso posibles variaciones del problema y/o variaciones al alza del tamaño"
      ]
    },
    {
      "cell_type": "markdown",
      "metadata": {
        "id": "IE0uZmo-tZu-"
      },
      "source": [
        "Bueno el estudio tiene varios puntos que se pueden llegar a tratar:\n",
        "\n",
        "- Añadir nuevas restricciones como coste de ciertos actores, asi como el tiempo de disponibilidad de ciertos de ellos. También que puede que un dia se enferme un actor principal para ver el comportamiento del algoritmo. Algo asi como gemelos digitales de ciertas compañias.\n",
        "- Se podria también poner como incremental que ciertos actores deben estar si o si en ciertas escenas, es decir, actor 1 y 2 siempre deben estar juntos.\n",
        "- Dado que el PLE es un algoritmo NP-duro, experimentariamos como incremental un metodo heurístico, pues su objetivo es encontrar soluciones buenas a problemas complejos en terminos de tiempo y coste computacional. Primero tomaria como prueba el algoritmo Genetico para integración crossover y mutación."
      ]
    }
  ]
}