{
  "cells": [
    {
      "cell_type": "markdown",
      "metadata": {
        "id": "view-in-github",
        "colab_type": "text"
      },
      "source": [
        "<a href=\"https://colab.research.google.com/github/OwenJ-bot/Algoritmos-de-Optimizacion/blob/main/Algoritmos_AG1.ipynb\" target=\"_parent\"><img src=\"https://colab.research.google.com/assets/colab-badge.svg\" alt=\"Open In Colab\"/></a>"
      ]
    },
    {
      "cell_type": "markdown",
      "metadata": {
        "id": "kQn6fbhgtH9I"
      },
      "source": [
        "#Algoritmos - Actividad Guiada 1\n",
        "\n",
        "Nombre: Owen Dadney Jimenez Chala<br>\n",
        "\n",
        "URL: https://colab.research.google.com/drive/1lJqfBFQFbfb39vkg9KlMqWj527tXl9uY?usp=sharing<br>\n",
        "\n",
        "https://github.com/OwenJ-bot/Algoritmos-de-Optimizacion/blob/main/Algoritmos_AG1.ipynb\n"
      ]
    },
    {
      "cell_type": "markdown",
      "metadata": {
        "id": "_t62Ge7ZuKnC"
      },
      "source": [
        "##Torres de Hanoi con Divide y vencerás"
      ]
    },
    {
      "cell_type": "code",
      "execution_count": 3,
      "metadata": {
        "colab": {
          "base_uri": "https://localhost:8080/"
        },
        "id": "i32G0CUQvauE",
        "outputId": "3eca1020-6f1c-45b6-89c9-daccfcb35f93"
      },
      "outputs": [
        {
          "output_type": "stream",
          "name": "stdout",
          "text": [
            "Lleva la ficha  1  hasta  3\n",
            "Lleva la ficha  1  hasta  2\n",
            "Lleva la ficha  3  hasta  2\n",
            "Lleva la ficha  1  hasta  3\n",
            "Lleva la ficha  2  hasta  1\n",
            "Lleva la ficha  2  hasta  3\n",
            "Lleva la ficha  1  hasta  3\n"
          ]
        }
      ],
      "source": [
        "def Torres_Hanoi(N, desde, hasta):\n",
        "  if N ==1 :   # n numero de fichas\n",
        "    print(\"Lleva la ficha \" ,desde , \" hasta \", hasta )\n",
        "\n",
        "  else:\n",
        "    #Torres_Hanoi(N-1, desde, 6-desde-hasta )\n",
        "    Torres_Hanoi(N-1, desde, 6-desde-hasta )\n",
        "    print(\"Lleva la ficha \" ,desde , \" hasta \", hasta )\n",
        "    #Torres_Hanoi(N-1,6-desde-hasta, hasta )\n",
        "    Torres_Hanoi(N-1, 6-desde-hasta  , hasta )\n",
        "\n",
        "\n",
        "Torres_Hanoi(3, 1 , 3)   # [(1) 2 (3)] -> 1 + 2 + 3 = 6 // 6 - 1 - 3 = 2 // 6 - 1 - 2 = 3 // 6 - 2 - 3 = 1"
      ]
    },
    {
      "cell_type": "code",
      "execution_count": 5,
      "metadata": {
        "colab": {
          "base_uri": "https://localhost:8080/"
        },
        "id": "74qZZAekiNYR",
        "outputId": "6169d87a-9ee0-42a6-8568-58cd7d6dc098"
      },
      "outputs": [
        {
          "output_type": "execute_result",
          "data": {
            "text/plain": [
              "8"
            ]
          },
          "metadata": {},
          "execution_count": 5
        }
      ],
      "source": [
        "#Sucesión_de_Fibonacci\n",
        "#https://es.wikipedia.org/wiki/Sucesi%C3%B3n_de_Fibonacci\n",
        "#Calculo del termino n-simo de la suscesión de Fibonacci\n",
        "def Fibonacci(N:int):\n",
        "  if N < 2:\n",
        "    return 1\n",
        "  else:\n",
        "    return Fibonacci(N-1)+Fibonacci(N-2)\n",
        "\n",
        "Fibonacci(5)\n",
        "\n",
        "#F(1) = 1\n",
        "#F(2) = 2\n",
        "#F(3) = F(2) + F(1) = 2 + 1 = 3\n",
        "#F(4) = F(3) + F(2) = 3 + 2 = 5\n",
        "# Tiene orden O(2^n) por su sobrejecutada en hilo\n"
      ]
    },
    {
      "cell_type": "markdown",
      "metadata": {
        "id": "RgT5XJsZ429L"
      },
      "source": [
        "##Devolución de cambio por técnica voraz"
      ]
    },
    {
      "cell_type": "code",
      "execution_count": 10,
      "metadata": {
        "colab": {
          "base_uri": "https://localhost:8080/"
        },
        "id": "uJtftBLU4-ap",
        "outputId": "66d34f11-6ac7-4d95-9d01-eaf2ea2a827d"
      },
      "outputs": [
        {
          "output_type": "execute_result",
          "data": {
            "text/plain": [
              "[0, 1, 1, 0]"
            ]
          },
          "metadata": {},
          "execution_count": 10
        }
      ],
      "source": [
        "def cambio_monedas(N, SM):  #N valor a devolver, SM lista de monedas disponibles\n",
        "  SOLUCION = [0]*len(SM)   #SOLUCION = [0,0,0,0,..]    # En cada etapa en busqueda de la solucion se encuentra la mejor solucion en esa etapa /\n",
        "                                                       # si la informacion en esa etapa es mala pues puede llevarnos a datos erroneos\n",
        "  ValorAcumulado = 0\n",
        "\n",
        "  for i,valor in enumerate(SM):\n",
        "    monedas =  (N-ValorAcumulado)//valor\n",
        "    SOLUCION[i] = monedas\n",
        "    ValorAcumulado = ValorAcumulado + monedas*valor\n",
        "\n",
        "    if ValorAcumulado == N:\n",
        "      return SOLUCION\n",
        "\n",
        "\n",
        "cambio_monedas(15,[25,10,5,1])     # La mas voraz, la que convergue mas rapido /suponiendo que tengo infinitas monedas\n",
        "                                   # Si se quiere usar para algoritmo determinista debe restringirse muy bien / Para que funcione bien"
      ]
    },
    {
      "cell_type": "markdown",
      "metadata": {
        "id": "g8M9GTvy_Fa3"
      },
      "source": [
        "## N-Reinas por técnica de vueta atrás\n"
      ]
    },
    {
      "cell_type": "code",
      "execution_count": 17,
      "metadata": {
        "id": "FqOPyCmv_K65",
        "colab": {
          "base_uri": "https://localhost:8080/"
        },
        "outputId": "7a3f5f01-1fe6-4016-8967-64e6a6cf5be4"
      },
      "outputs": [
        {
          "output_type": "stream",
          "name": "stdout",
          "text": [
            "[1, 5, 8, 6, 3, 7, 2, 4]\n",
            "\n",
            "[1, 6, 8, 3, 7, 4, 2, 5]\n",
            "\n",
            "[1, 7, 4, 6, 8, 2, 5, 3]\n",
            "\n",
            "[1, 7, 5, 8, 2, 4, 6, 3]\n",
            "\n",
            "[2, 4, 6, 8, 3, 1, 7, 5]\n",
            "\n",
            "[2, 5, 7, 1, 3, 8, 6, 4]\n",
            "\n",
            "[2, 5, 7, 4, 1, 8, 6, 3]\n",
            "\n",
            "[2, 6, 1, 7, 4, 8, 3, 5]\n",
            "\n",
            "[2, 6, 8, 3, 1, 4, 7, 5]\n",
            "\n",
            "[2, 7, 3, 6, 8, 5, 1, 4]\n",
            "\n",
            "[2, 7, 5, 8, 1, 4, 6, 3]\n",
            "\n",
            "[2, 8, 6, 1, 3, 5, 7, 4]\n",
            "\n",
            "[3, 1, 7, 5, 8, 2, 4, 6]\n",
            "\n",
            "[3, 5, 2, 8, 1, 7, 4, 6]\n",
            "\n",
            "[3, 5, 2, 8, 6, 4, 7, 1]\n",
            "\n",
            "[3, 5, 7, 1, 4, 2, 8, 6]\n",
            "\n",
            "[3, 5, 8, 4, 1, 7, 2, 6]\n",
            "\n",
            "[3, 6, 2, 5, 8, 1, 7, 4]\n",
            "\n",
            "[3, 6, 2, 7, 1, 4, 8, 5]\n",
            "\n",
            "[3, 6, 2, 7, 5, 1, 8, 4]\n",
            "\n",
            "[3, 6, 4, 1, 8, 5, 7, 2]\n",
            "\n",
            "[3, 6, 4, 2, 8, 5, 7, 1]\n",
            "\n",
            "[3, 6, 8, 1, 4, 7, 5, 2]\n",
            "\n",
            "[3, 6, 8, 1, 5, 7, 2, 4]\n",
            "\n",
            "[3, 6, 8, 2, 4, 1, 7, 5]\n",
            "\n",
            "[3, 7, 2, 8, 5, 1, 4, 6]\n",
            "\n",
            "[3, 7, 2, 8, 6, 4, 1, 5]\n",
            "\n",
            "[3, 8, 4, 7, 1, 6, 2, 5]\n",
            "\n",
            "[4, 1, 5, 8, 2, 7, 3, 6]\n",
            "\n",
            "[4, 1, 5, 8, 6, 3, 7, 2]\n",
            "\n",
            "[4, 2, 5, 8, 6, 1, 3, 7]\n",
            "\n",
            "[4, 2, 7, 3, 6, 8, 1, 5]\n",
            "\n",
            "[4, 2, 7, 3, 6, 8, 5, 1]\n",
            "\n",
            "[4, 2, 7, 5, 1, 8, 6, 3]\n",
            "\n",
            "[4, 2, 8, 5, 7, 1, 3, 6]\n",
            "\n",
            "[4, 2, 8, 6, 1, 3, 5, 7]\n",
            "\n",
            "[4, 6, 1, 5, 2, 8, 3, 7]\n",
            "\n",
            "[4, 6, 8, 2, 7, 1, 3, 5]\n",
            "\n",
            "[4, 6, 8, 3, 1, 7, 5, 2]\n",
            "\n",
            "[4, 7, 1, 8, 5, 2, 6, 3]\n",
            "\n",
            "[4, 7, 3, 8, 2, 5, 1, 6]\n",
            "\n",
            "[4, 7, 5, 2, 6, 1, 3, 8]\n",
            "\n",
            "[4, 7, 5, 3, 1, 6, 8, 2]\n",
            "\n",
            "[4, 8, 1, 3, 6, 2, 7, 5]\n",
            "\n",
            "[4, 8, 1, 5, 7, 2, 6, 3]\n",
            "\n",
            "[4, 8, 5, 3, 1, 7, 2, 6]\n",
            "\n",
            "[5, 1, 4, 6, 8, 2, 7, 3]\n",
            "\n",
            "[5, 1, 8, 4, 2, 7, 3, 6]\n",
            "\n",
            "[5, 1, 8, 6, 3, 7, 2, 4]\n",
            "\n",
            "[5, 2, 4, 6, 8, 3, 1, 7]\n",
            "\n",
            "[5, 2, 4, 7, 3, 8, 6, 1]\n",
            "\n",
            "[5, 2, 6, 1, 7, 4, 8, 3]\n",
            "\n",
            "[5, 2, 8, 1, 4, 7, 3, 6]\n",
            "\n",
            "[5, 3, 1, 6, 8, 2, 4, 7]\n",
            "\n",
            "[5, 3, 1, 7, 2, 8, 6, 4]\n",
            "\n",
            "[5, 3, 8, 4, 7, 1, 6, 2]\n",
            "\n",
            "[5, 7, 1, 3, 8, 6, 4, 2]\n",
            "\n",
            "[5, 7, 1, 4, 2, 8, 6, 3]\n",
            "\n",
            "[5, 7, 2, 4, 8, 1, 3, 6]\n",
            "\n",
            "[5, 7, 2, 6, 3, 1, 4, 8]\n",
            "\n",
            "[5, 7, 2, 6, 3, 1, 8, 4]\n",
            "\n",
            "[5, 7, 4, 1, 3, 8, 6, 2]\n",
            "\n",
            "[5, 8, 4, 1, 3, 6, 2, 7]\n",
            "\n",
            "[5, 8, 4, 1, 7, 2, 6, 3]\n",
            "\n",
            "[6, 1, 5, 2, 8, 3, 7, 4]\n",
            "\n",
            "[6, 2, 7, 1, 3, 5, 8, 4]\n",
            "\n",
            "[6, 2, 7, 1, 4, 8, 5, 3]\n",
            "\n",
            "[6, 3, 1, 7, 5, 8, 2, 4]\n",
            "\n",
            "[6, 3, 1, 8, 4, 2, 7, 5]\n",
            "\n",
            "[6, 3, 1, 8, 5, 2, 4, 7]\n",
            "\n",
            "[6, 3, 5, 7, 1, 4, 2, 8]\n",
            "\n",
            "[6, 3, 5, 8, 1, 4, 2, 7]\n",
            "\n",
            "[6, 3, 7, 2, 4, 8, 1, 5]\n",
            "\n",
            "[6, 3, 7, 2, 8, 5, 1, 4]\n",
            "\n",
            "[6, 3, 7, 4, 1, 8, 2, 5]\n",
            "\n",
            "[6, 4, 1, 5, 8, 2, 7, 3]\n",
            "\n",
            "[6, 4, 2, 8, 5, 7, 1, 3]\n",
            "\n",
            "[6, 4, 7, 1, 3, 5, 2, 8]\n",
            "\n",
            "[6, 4, 7, 1, 8, 2, 5, 3]\n",
            "\n",
            "[6, 8, 2, 4, 1, 7, 5, 3]\n",
            "\n",
            "[7, 1, 3, 8, 6, 4, 2, 5]\n",
            "\n",
            "[7, 2, 4, 1, 8, 5, 3, 6]\n",
            "\n",
            "[7, 2, 6, 3, 1, 4, 8, 5]\n",
            "\n",
            "[7, 3, 1, 6, 8, 5, 2, 4]\n",
            "\n",
            "[7, 3, 8, 2, 5, 1, 6, 4]\n",
            "\n",
            "[7, 4, 2, 5, 8, 1, 3, 6]\n",
            "\n",
            "[7, 4, 2, 8, 6, 1, 3, 5]\n",
            "\n",
            "[7, 5, 3, 1, 6, 8, 2, 4]\n",
            "\n",
            "[8, 2, 4, 1, 7, 5, 3, 6]\n",
            "\n",
            "[8, 2, 5, 3, 1, 7, 4, 6]\n",
            "\n",
            "[8, 3, 1, 6, 2, 5, 7, 4]\n",
            "\n",
            "[8, 4, 1, 3, 6, 2, 7, 5]\n",
            "\n"
          ]
        }
      ],
      "source": [
        "#La idea es que las reinas no se amenacen enntre ellas\n",
        "#Se expande el arbol si  no funciona el patron busca otro camino\n",
        "\n",
        "def escribe(S):\n",
        "  n = len(S)\n",
        "  for x in range(n):\n",
        "    print(\"\")\n",
        "    for i in range(n):\n",
        "      if S[i] == x+1:\n",
        "        print(\" X \" , end=\"\")\n",
        "      else:\n",
        "        print(\" - \", end=\"\")\n",
        "\n",
        "\n",
        "def es_prometedora(SOLUCION,etapa):\n",
        "  #print(SOLUCION)\n",
        "  #Si la solución tiene dos valores iguales no es valida => Dos reinas en la misma fila\n",
        "  for i in range(etapa+1):\n",
        "    #print(\"El valor \" + str(SOLUCION[i]) + \" está \" +  str(SOLUCION.count(SOLUCION[i])) + \" veces\")\n",
        "    if SOLUCION.count(SOLUCION[i]) > 1:\n",
        "      return False\n",
        "\n",
        "    #Verifica las diagonales\n",
        "    for j in range(i+1, etapa +1 ):\n",
        "      #print(\"Comprobando diagonal de \" + str(i) + \" y \" + str(j))\n",
        "      if abs(i-j) == abs(SOLUCION[i]-SOLUCION[j]) : return False\n",
        "  return True\n",
        "\n",
        "\n",
        "\n",
        "def reinas(N, solucion=[], etapa=0):\n",
        "  if len(solucion) == 0:\n",
        "      solucion=[0 for i in range(N)]\n",
        "\n",
        "  for i in range(1, N+1):\n",
        "    solucion[etapa] = i\n",
        "\n",
        "    if es_prometedora(solucion, etapa):\n",
        "      if etapa == N-1:\n",
        "        print(solucion)\n",
        "        #escribe(solucion)\n",
        "        print()\n",
        "      else:\n",
        "        reinas(N, solucion, etapa+1)\n",
        "    else:\n",
        "      None\n",
        "\n",
        "    solucion[etapa] = 0\n",
        "\n",
        "reinas(8)\n",
        "# La ultima de las soluciones es la mas prometedora, por ejemplo aqui [1, 5, 8, 6, 3, 7, 2, 4] parece que le sirve [1, 6, 8, 3, 7, 4, 2, 5] aqui ya cambian los numeros porq no le funciona... Asi itera hasta llegar al objetivo"
      ]
    },
    {
      "cell_type": "markdown",
      "metadata": {
        "id": "p1VZhNzjUfiy"
      },
      "source": [
        "## Viaje por el rio abajo. Programación dinámica"
      ]
    },
    {
      "cell_type": "code",
      "execution_count": 16,
      "metadata": {
        "colab": {
          "base_uri": "https://localhost:8080/",
          "height": 365
        },
        "id": "qoqU1XciUdRn",
        "outputId": "17730e00-60cc-4c52-c219-3dc27076a5ef"
      },
      "outputs": [
        {
          "output_type": "stream",
          "name": "stdout",
          "text": [
            "PRECIOS\n",
            "[0, 5, 4, 3, 8, 8, 11]\n",
            "[9999, 0, 999, 2, 3, 8, 7]\n",
            "[9999, 9999, 0, 1, 6, 4, 7]\n",
            "[9999, 9999, 9999, 0, 5, 6, 9]\n",
            "[9999, 9999, 9999, 9999, 0, 999, 4]\n",
            "[9999, 9999, 9999, 9999, 9999, 0, 3]\n",
            "[9999, 9999, 9999, 9999, 9999, 9999, 9999]\n",
            "\n",
            "RUTA\n",
            "[0, 0, 0, 0, 1, 2, 5]\n",
            "['', 1, 1, 1, 1, 3, 4]\n",
            "['', '', 2, 2, 3, 2, 5]\n",
            "['', '', '', 3, 3, 3, 3]\n",
            "['', '', '', '', 4, 4, 4]\n",
            "['', '', '', '', '', 5, 5]\n",
            "['', '', '', '', '', '', '']\n",
            "\n",
            "La ruta es:\n"
          ]
        },
        {
          "output_type": "execute_result",
          "data": {
            "text/plain": [
              "',0,2,5'"
            ],
            "application/vnd.google.colaboratory.intrinsic+json": {
              "type": "string"
            }
          },
          "metadata": {},
          "execution_count": 16
        }
      ],
      "source": [
        "# soluciones que se pueden dividir en subproblemas, y reutilizar los calculos que se hacen para bajar la complejidad\n",
        "# ir del punto 0 al 6\n",
        "\n",
        "TARIFAS = [\n",
        "[0  ,5  ,4  ,  3,999,999,999],\n",
        "[999,0  ,999,  2,  3,999, 11],\n",
        "[999,999, 0 ,  1,999,  4, 10],\n",
        "[999,999,999,  0,  5,  6,  9],\n",
        "[999,999,999,999,  0,999,  4],\n",
        "[999,999,999,999,999,  0,  3],\n",
        "[999,999,999,999,999,999,  0]\n",
        "]\n",
        "#fila nodo origen / Matriz de adyasencia\n",
        "# si fuera por fuerza bruta O(n!) todas las posibilidades\n",
        "\n",
        "\n",
        "################################################################\n",
        "def Precios(TARIFAS):\n",
        "################################################################\n",
        "  #Total de Nodos\n",
        "  N = len(TARIFAS[0])\n",
        "\n",
        "  #Inicialización de la tabla de precios\n",
        "  PRECIOS = [ [9999]*N for i in [9999]*N]\n",
        "  RUTA = [ [\"\"]*N for i in [\"\"]*N]        #Ir almacenando ruta\n",
        "\n",
        "  for i in range(0,N-1):\n",
        "    RUTA[i][i] = i             #Para ir de i a i se \"pasa por i\"\n",
        "    PRECIOS[i][i] = 0          #Para ir de i a i se se paga 0\n",
        "    for j in range(i+1, N):\n",
        "      MIN = TARIFAS[i][j]\n",
        "      RUTA[i][j] = i\n",
        "\n",
        "      for k in range(i, j):\n",
        "        if PRECIOS[i][k] + TARIFAS[k][j] < MIN:\n",
        "            MIN = min(MIN, PRECIOS[i][k] + TARIFAS[k][j] )\n",
        "            RUTA[i][j] = k          #Anota que para ir de i a j hay que pasar por k\n",
        "        PRECIOS[i][j] = MIN\n",
        "\n",
        "  return PRECIOS,RUTA\n",
        "################################################################\n",
        "\n",
        "\n",
        "PRECIOS,RUTA = Precios(TARIFAS)\n",
        "#print(PRECIOS[0][6])\n",
        "\n",
        "print(\"PRECIOS\")\n",
        "for i in range(len(TARIFAS)):\n",
        "  print(PRECIOS[i])\n",
        "\n",
        "print(\"\\nRUTA\")\n",
        "for i in range(len(TARIFAS)):\n",
        "  print(RUTA[i])\n",
        "\n",
        "#Determinar la ruta con Recursividad\n",
        "def calcular_ruta(RUTA, desde, hasta):\n",
        "  if desde == hasta:\n",
        "    #print(\"Ir a :\" + str(desde))\n",
        "    return \"\"\n",
        "  else:\n",
        "    return str(calcular_ruta( RUTA, desde, RUTA[desde][hasta])) +  \\\n",
        "                ',' + \\\n",
        "                str(RUTA[desde][hasta] \\\n",
        "              )\n",
        "\n",
        "print(\"\\nLa ruta es:\")\n",
        "calcular_ruta(RUTA, 0,6)"
      ]
    },
    {
      "cell_type": "markdown",
      "source": [
        "1. Dada una lista de números enteros, en vectores (lista) de una dimensión, de vectores de 2 dimensiones y lista de vectores de 3 dimensiones encontrar un algoritmo, que encuentre los dos vectores mas cercanos por distancia ecuclidiana, por medio de algoritmo de fuerza bruta y evaluar la complejidad junto con el numero de combinaciones que utiliza."
      ],
      "metadata": {
        "id": "okF1X6tQA7Y9"
      }
    },
    {
      "cell_type": "code",
      "source": [
        "def distancia_euclidiana(vector1, vector2):\n",
        "    return sum((a - b) ** 2 for a, b in zip(vector1, vector2)) ** 0.5\n",
        "\n",
        "def vectores_mas_cercanos_fuerza_bruta(vectores):\n",
        "    distancia_minima = float('inf')\n",
        "    par_mas_cercano = (None, None)\n",
        "    num_combinaciones = 0\n",
        "\n",
        "    for i in range(len(vectores)):\n",
        "        for j in range(i + 1, len(vectores)):\n",
        "            num_combinaciones += 1\n",
        "            distancia = distancia_euclidiana(vectores[i], vectores[j])\n",
        "            if distancia < distancia_minima:\n",
        "                distancia_minima = distancia\n",
        "                par_mas_cercano = (vectores[i], vectores[j])\n",
        "\n",
        "    return par_mas_cercano, distancia_minima, num_combinaciones\n",
        "\n",
        "# Vectores de 1 dimensión\n",
        "vectores_1d = [[1], [4], [2], [7]]\n",
        "par_mas_cercano_1d, distancia_minima_1d, num_combinaciones_1d = vectores_mas_cercanos_fuerza_bruta(vectores_1d)\n",
        "print(\"1D:\", par_mas_cercano_1d, distancia_minima_1d, num_combinaciones_1d)\n",
        "\n",
        "# Vectores de 2 dimensiones\n",
        "vectores_2d = [[1, 2], [4, 5], [2, 3], [7, 8]]\n",
        "par_mas_cercano_2d, distancia_minima_2d, num_combinaciones_2d = vectores_mas_cercanos_fuerza_bruta(vectores_2d)\n",
        "print(\"2D:\", par_mas_cercano_2d, distancia_minima_2d, num_combinaciones_2d)\n",
        "\n",
        "# Vectores de 3 dimensiones\n",
        "vectores_3d = [[1, 2, 3], [4, 5, 6], [2, 3, 4], [7, 8, 9]]\n",
        "par_mas_cercano_3d, distancia_minima_3d, num_combinaciones_3d = vectores_mas_cercanos_fuerza_bruta(vectores_3d)\n",
        "print(\"3D:\", par_mas_cercano_3d, distancia_minima_3d, num_combinaciones_3d)\n",
        "\n"
      ],
      "metadata": {
        "colab": {
          "base_uri": "https://localhost:8080/"
        },
        "id": "InrbceimBL4E",
        "outputId": "bdca3736-acc9-4205-8221-bc37c065ceb7"
      },
      "execution_count": 19,
      "outputs": [
        {
          "output_type": "stream",
          "name": "stdout",
          "text": [
            "1D: ([1], [2]) 1.0 6\n",
            "2D: ([1, 2], [2, 3]) 1.4142135623730951 6\n",
            "3D: ([1, 2, 3], [2, 3, 4]) 1.7320508075688772 6\n"
          ]
        }
      ]
    },
    {
      "cell_type": "markdown",
      "source": [
        "La Complejidad Temporal, esta dada por O(n^2) esto porque se comparan todos los pares de vectores posibles. En el codigo se tienen dos bucles anidados, el primero recorre todos los vectores, y el segundo compara cada vector con todos los que le siguen. El vector, realiza n-1,n-2, ..., hasta 1 comparaciones, resultando en una cantidad total de comparaciones proporcional a\n",
        "n^2.\n",
        "\n",
        "También el número de combinaciones esta dado por n(n-1)/2 pues es el número de maneras únicas de elegir dos vectores de un conjunto de n; para\n",
        "n vectores, se eligen dos a la vez para compararlos"
      ],
      "metadata": {
        "id": "BFcOkNxRCJFR"
      }
    },
    {
      "cell_type": "markdown",
      "source": [
        "2. Proponer un algoritmo (con alguna de las técnicas: Tecnica voraz, divide y venceras o de vuelta atras) que mejore esa fuerza bruta y dar un orden de la mejora de la complejidad"
      ],
      "metadata": {
        "id": "Exb16ERHEXnr"
      }
    },
    {
      "cell_type": "code",
      "source": [
        "import math\n",
        "\n",
        "def distancia_euclidiana(vector1, vector2):\n",
        "    return math.sqrt(sum((a - b) ** 2 for a, b in zip(vector1, vector2)))\n",
        "\n",
        "def puntos_mas_cercanos_divide_venceras(vectores):\n",
        "    def recursivo(vectores_ordenados_x):\n",
        "        n = len(vectores_ordenados_x)\n",
        "        if n <= 3:\n",
        "            return min((distancia_euclidiana(vectores_ordenados_x[i], vectores_ordenados_x[j]), (vectores_ordenados_x[i], vectores_ordenados_x[j]))\n",
        "                       for i in range(n) for j in range(i + 1, n))\n",
        "\n",
        "        mitad = n // 2\n",
        "        izquierda = vectores_ordenados_x[:mitad]\n",
        "        derecha = vectores_ordenados_x[mitad:]\n",
        "\n",
        "        (distancia_izquierda, par_izquierda) = recursivo(izquierda)\n",
        "        (distancia_derecha, par_derecha) = recursivo(derecha)\n",
        "\n",
        "        distancia_minima = min(distancia_izquierda, distancia_derecha)\n",
        "        par_mas_cercano = par_izquierda if distancia_izquierda <= distancia_derecha else par_derecha\n",
        "\n",
        "        centro = vectores_ordenados_x[mitad][0]\n",
        "        en_banda = [vector for vector in vectores_ordenados_x if abs(vector[0] - centro) < distancia_minima]\n",
        "        en_banda.sort(key=lambda vector: vector[1])\n",
        "\n",
        "        for i in range(len(en_banda)):\n",
        "            for j in range(i + 1, len(en_banda)):\n",
        "                if (en_banda[j][1] - en_banda[i][1]) >= distancia_minima:\n",
        "                    break\n",
        "                distancia_banda = distancia_euclidiana(en_banda[i], en_banda[j])\n",
        "                if distancia_banda < distancia_minima:\n",
        "                    distancia_minima = distancia_banda\n",
        "                    par_mas_cercano = (en_banda[i], en_banda[j])\n",
        "\n",
        "        return distancia_minima, par_mas_cercano\n",
        "\n",
        "    vectores_ordenados_x = sorted(vectores, key=lambda vector: vector[0])\n",
        "    return recursivo(vectores_ordenados_x)\n",
        "\n",
        "# Ejemplo\n",
        "vectores_2d = [[1, 2], [4, 5], [2, 3], [7, 8], [6, 5]]\n",
        "distancia, par_cercano = puntos_mas_cercanos_divide_venceras(vectores_2d)\n",
        "print(f\"Par más cercano: {par_cercano}, Distancia: {distancia}\")"
      ],
      "metadata": {
        "colab": {
          "base_uri": "https://localhost:8080/"
        },
        "id": "k9gTJqVTEsCE",
        "outputId": "885d3ad2-32fc-4ef4-bbd4-158a8ffdf5ae"
      },
      "execution_count": 22,
      "outputs": [
        {
          "output_type": "stream",
          "name": "stdout",
          "text": [
            "Par más cercano: ([1, 2], [2, 3]), Distancia: 1.4142135623730951\n"
          ]
        }
      ]
    },
    {
      "cell_type": "markdown",
      "source": [
        "Usando la tecnica de divide y venceras, que toma el problema en partes más pequeñas y combina los resultados. Ayuda a mejorar la complejidad pues, el proceso dicide el conjunto de vectores en mitades y resuelve los subproblemas recursivamente siguiendo una estructura logarítmica. En cada nivel de la recursión, el trabajo total es proporcional a n. Por lo tanto, la complejidad total es la suma del trabajo en cada nivel, lo cual es O(n) multiplicado por el número de niveles de recursión O(log⁡n): O(nlogn)"
      ],
      "metadata": {
        "id": "1L9TWebnE5jC"
      }
    }
  ],
  "metadata": {
    "colab": {
      "provenance": [],
      "include_colab_link": true
    },
    "kernelspec": {
      "display_name": "Python 3 (ipykernel)",
      "language": "python",
      "name": "python3"
    },
    "language_info": {
      "codemirror_mode": {
        "name": "ipython",
        "version": 3
      },
      "file_extension": ".py",
      "mimetype": "text/x-python",
      "name": "python",
      "nbconvert_exporter": "python",
      "pygments_lexer": "ipython3",
      "version": "3.11.5"
    }
  },
  "nbformat": 4,
  "nbformat_minor": 0
}